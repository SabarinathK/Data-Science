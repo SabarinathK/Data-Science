{
 "cells": [
  {
   "cell_type": "markdown",
   "id": "12c3ea67",
   "metadata": {},
   "source": [
    "# OOPs - Object-Oriented Programming\n",
    "\n",
    "The term “Object-Oriented Programming” (OOP) was coined by Alan Kay around 1966 while he was at grad school. \n",
    "\n",
    "The language called **Simula** was the first programming language with the features of Object-oriented programming. \n",
    "\n",
    "It was developed in 1967 for making simulation programs, in which the most important information was called objects.\n",
    "\n",
    "Though OOPs were in the market since the early 1960s it was in the 1990s that OOPs began to grow because of C++. \n",
    "\n",
    "After that, this technique of programming has been adapted by various programming languages including Python.\n",
    "\n",
    "Today its application is in almost every field such as\n",
    "- Real-time systems,  \n",
    "- Artificial intelligence and expert systems, \n",
    "- Client-server systems, \n",
    "- Object-oriented databases, and many more."
   ]
  },
  {
   "cell_type": "code",
   "execution_count": 9,
   "id": "8ba07551",
   "metadata": {},
   "outputs": [],
   "source": [
    "class sabari:\n",
    "    \n",
    "    def __init__(self, a, b):\n",
    "        self.a = a\n",
    "        self.b = b \n",
    "        \n",
    "    def add(self):\n",
    "\n",
    "        \"\"\"This program adds two\n",
    "        numbers and return the result\"\"\"\n",
    "\n",
    "        result = self.a + self.b\n",
    "        return result\n",
    "\n",
    "    def sub(self):\n",
    "\n",
    "        \"\"\"This program sub two\n",
    "        numbers and return the result\"\"\"\n",
    "\n",
    "        result=self.a-self.b\n",
    "        return result"
   ]
  },
  {
   "cell_type": "code",
   "execution_count": 10,
   "id": "c7e104ea",
   "metadata": {},
   "outputs": [],
   "source": [
    "a=sabari(1,3)"
   ]
  },
  {
   "cell_type": "code",
   "execution_count": 12,
   "id": "673a49bb",
   "metadata": {},
   "outputs": [
    {
     "data": {
      "text/plain": [
       "4"
      ]
     },
     "execution_count": 12,
     "metadata": {},
     "output_type": "execute_result"
    }
   ],
   "source": [
    "a.add()\n"
   ]
  },
  {
   "cell_type": "code",
   "execution_count": 13,
   "id": "c2ef31a5",
   "metadata": {},
   "outputs": [
    {
     "data": {
      "text/plain": [
       "-2"
      ]
     },
     "execution_count": 13,
     "metadata": {},
     "output_type": "execute_result"
    }
   ],
   "source": [
    "a.sub()"
   ]
  },
  {
   "cell_type": "code",
   "execution_count": 14,
   "id": "f081ae7e",
   "metadata": {},
   "outputs": [],
   "source": [
    "o=sabari(1,2)\n"
   ]
  },
  {
   "cell_type": "code",
   "execution_count": 16,
   "id": "679933bc",
   "metadata": {},
   "outputs": [
    {
     "data": {
      "text/plain": [
       "-1"
      ]
     },
     "execution_count": 16,
     "metadata": {},
     "output_type": "execute_result"
    }
   ],
   "source": [
    "o.sub()"
   ]
  },
  {
   "cell_type": "code",
   "execution_count": null,
   "id": "d252da38",
   "metadata": {},
   "outputs": [],
   "source": []
  },
  {
   "cell_type": "code",
   "execution_count": 9,
   "id": "b568f06b",
   "metadata": {},
   "outputs": [],
   "source": [
    "def dummi(a,b):\n",
    "  \n",
    "    a=a+2\n",
    "    b=b+3\n",
    "    c=a/b\n",
    "    return c"
   ]
  },
  {
   "cell_type": "code",
   "execution_count": 10,
   "id": "f15db5a2",
   "metadata": {},
   "outputs": [
    {
     "data": {
      "text/plain": [
       "2.0"
      ]
     },
     "execution_count": 10,
     "metadata": {},
     "output_type": "execute_result"
    }
   ],
   "source": [
    "dummi(6,1)"
   ]
  },
  {
   "cell_type": "markdown",
   "id": "a8e9cb90",
   "metadata": {},
   "source": [
    "# What Is Object-Oriented Programming?"
   ]
  },
  {
   "cell_type": "markdown",
   "id": "7b8432cc",
   "metadata": {},
   "source": [
    "Object-Oriented Programming(OOP), is all about creating **“objects”**\n",
    "\n",
    "**An object is a group of interrelated variables and functions.**\n",
    "\n",
    "- _*Variables*_ are often referred to as properties of the object  \n",
    "\n",
    "- _*Functions*_ are referred to as the behavior of the objects.\n",
    "\n",
    "###############################################################################\n",
    "\n",
    "Object - function and variables that are interrelated\n",
    "\n",
    "variables - property of object\n",
    "\n",
    "function - behaviour\n",
    "\n",
    "###############################################################################\n",
    "\n",
    "**Example :**\n",
    "\n",
    "object               - Car\n",
    "\n",
    "variable (property)  - Color, model, price\n",
    "\n",
    "Function (behaviour) - acceleration, gear change"
   ]
  },
  {
   "cell_type": "markdown",
   "id": "3063734b",
   "metadata": {},
   "source": [
    "Object-Oriented programming is famous because it implements the real-world entities like \n",
    "\n",
    "- objects,\n",
    "- hiding, \n",
    "- inheritance in programming.\n",
    "\n",
    "It makes visualization easier because it is close to real-world scenarios."
   ]
  },
  {
   "cell_type": "markdown",
   "id": "52af3f32",
   "metadata": {},
   "source": [
    "# Object-Oriented Programming (OOP) vs Procedure Oriented Programming (POP)"
   ]
  },
  {
   "cell_type": "markdown",
   "id": "82c67c34",
   "metadata": {},
   "source": [
    "**A procedural program consists of functions.**\n",
    "\n",
    "This means that in the POP approach the program is divided into functions, which are specific to different tasks. \n",
    "\n",
    "These functions are arranged in a specific sequence and the control of the program flows sequentially.\n",
    "\n",
    "\n",
    "**Whereas an OOP program consists of objects.**\n",
    "\n",
    "The object-Oriented approach divides the program into objects. \n",
    "\n",
    "And these objects are the entities that bundle up the properties and the behavior of the real-world objects."
   ]
  },
  {
   "cell_type": "markdown",
   "id": "16ca6263",
   "metadata": {},
   "source": [
    "POP is suitable for small tasks only. (hard to debug)\n",
    "\n",
    "OOP solves this problem with the help of a clearer and less complex structure(easy when compare to pop)"
   ]
  },
  {
   "cell_type": "markdown",
   "id": "6763537b",
   "metadata": {},
   "source": [
    "Encapsulation in OOPs\n",
    "\n",
    "No Encapsulation in POP"
   ]
  },
  {
   "cell_type": "markdown",
   "id": "8e4db347",
   "metadata": {},
   "source": [
    "C, Pascal and BASIC use procedural \n",
    "\n",
    "Java, Python, JavaScript, PHP, Scala, and C++ has Object-oriented approach."
   ]
  },
  {
   "cell_type": "markdown",
   "id": "e80283d4",
   "metadata": {},
   "source": [
    "# Major OOPs concepts\n",
    "\n",
    "- Class\n",
    "- Object\n",
    "- Method\n",
    "- Inheritance\n",
    "- Encapsulation\n",
    "- Polymorphism\n",
    "- Data Abstraction"
   ]
  },
  {
   "cell_type": "markdown",
   "id": "668b555a",
   "metadata": {},
   "source": [
    "# Class\n",
    "\n",
    "\n",
    "collection of object"
   ]
  },
  {
   "cell_type": "code",
   "execution_count": null,
   "id": "25b0179c",
   "metadata": {},
   "outputs": [],
   "source": [
    "class class_name:\n",
    "    # class body"
   ]
  },
  {
   "cell_type": "markdown",
   "id": "d813f80e",
   "metadata": {},
   "source": [
    "# Objects"
   ]
  },
  {
   "cell_type": "code",
   "execution_count": null,
   "id": "a5800164",
   "metadata": {},
   "outputs": [],
   "source": [
    "obj1 = class_name()"
   ]
  },
  {
   "cell_type": "markdown",
   "id": "9bf431cd",
   "metadata": {},
   "source": [
    "# Class constructor"
   ]
  },
  {
   "cell_type": "markdown",
   "id": "e6db2ac7",
   "metadata": {},
   "source": [
    "assign the values to the data members of the class when an object of the class is created."
   ]
  },
  {
   "cell_type": "code",
   "execution_count": null,
   "id": "d0dab903",
   "metadata": {},
   "outputs": [],
   "source": [
    "class Car:\n",
    "    def __init__(self, name, color):   #constructed method\n",
    "        self.name = name\n",
    "        self.color = color"
   ]
  },
  {
   "cell_type": "code",
   "execution_count": null,
   "id": "c829facb",
   "metadata": {},
   "outputs": [],
   "source": [
    "class Car:\n",
    "    car_type = \"Sedan\"                 #class attribute or variable\n",
    "    def __init__(self, name, color):\n",
    "        self.name = name               #instance attribute or variable   \n",
    "        self.color = color             #instance attribute or variable"
   ]
  },
  {
   "cell_type": "markdown",
   "id": "a19494d2",
   "metadata": {},
   "source": [
    "# Class methods"
   ]
  },
  {
   "cell_type": "markdown",
   "id": "9e08129f",
   "metadata": {},
   "source": [
    "Methods are the functions that we use to describe the behavior of the objects"
   ]
  },
  {
   "cell_type": "code",
   "execution_count": 19,
   "id": "b7de34a6",
   "metadata": {},
   "outputs": [],
   "source": [
    "class Car:   \n",
    "    car_type = \"Sedan\" \n",
    "\n",
    "    def __init__(self, name, mileage):\n",
    "        self.name = name \n",
    "        self.mileage = mileage \n",
    "\n",
    "    def description(self):                 \n",
    "        return f\"The {self.name} car gives the mileage of {self.mileage}km/l\"\n",
    "\n",
    "    def max_speed(self, speed):\n",
    "        return f\"The {self.name} runs at the maximum speed of {speed}km/hr\""
   ]
  },
  {
   "cell_type": "code",
   "execution_count": 28,
   "id": "39c04218",
   "metadata": {},
   "outputs": [],
   "source": [
    "obj2 = Car(\"Honda\",24.1)   # number and Order of the arguments matters."
   ]
  },
  {
   "cell_type": "code",
   "execution_count": 29,
   "id": "cd12876d",
   "metadata": {},
   "outputs": [
    {
     "data": {
      "text/plain": [
       "'The Honda car gives the mileage of 24.1km/l'"
      ]
     },
     "execution_count": 29,
     "metadata": {},
     "output_type": "execute_result"
    }
   ],
   "source": [
    "obj2.description()"
   ]
  },
  {
   "cell_type": "code",
   "execution_count": 30,
   "id": "a4388ffb",
   "metadata": {},
   "outputs": [
    {
     "data": {
      "text/plain": [
       "'The Honda runs at the maximum speed of 150km/hr'"
      ]
     },
     "execution_count": 30,
     "metadata": {},
     "output_type": "execute_result"
    }
   ],
   "source": [
    "obj2.max_speed(150)"
   ]
  },
  {
   "cell_type": "markdown",
   "id": "1dac7cec",
   "metadata": {},
   "source": [
    "# Inheritance "
   ]
  },
  {
   "cell_type": "markdown",
   "id": "2db823be",
   "metadata": {},
   "source": [
    "Inheritance is the procedure in which one class inherits the attributes and methods of another class."
   ]
  },
  {
   "cell_type": "code",
   "execution_count": null,
   "id": "35b6b1a3",
   "metadata": {},
   "outputs": [],
   "source": [
    "class parent_class:\n",
    "    body of parent class\n",
    "\n",
    "class child_class( parent_class):\n",
    "    body of child class"
   ]
  },
  {
   "cell_type": "code",
   "execution_count": 1,
   "id": "28f7aec4",
   "metadata": {},
   "outputs": [],
   "source": [
    "class Car:          #parent class\n",
    "    def __init__(self, name, mileage):\n",
    "        self.name = name \n",
    "        self.mileage = mileage \n",
    "\n",
    "    def description(self):                \n",
    "        return f\"The {self.name} car gives the mileage of {self.mileage}km/l\""
   ]
  },
  {
   "cell_type": "code",
   "execution_count": 2,
   "id": "af4e190c",
   "metadata": {},
   "outputs": [
    {
     "data": {
      "text/plain": [
       "'The honda car gives the mileage of 25km/l'"
      ]
     },
     "execution_count": 2,
     "metadata": {},
     "output_type": "execute_result"
    }
   ],
   "source": [
    "s=Car('honda',25)\n",
    "s.description()"
   ]
  },
  {
   "cell_type": "code",
   "execution_count": 3,
   "id": "182898c2",
   "metadata": {},
   "outputs": [],
   "source": [
    "class Audi(Car):     #child class\n",
    "    def audi_desc(self):\n",
    "        return \"This is the description method of class Audi.\""
   ]
  },
  {
   "cell_type": "code",
   "execution_count": 6,
   "id": "c4c82050",
   "metadata": {},
   "outputs": [],
   "source": [
    "obj2 = Audi(\"Audi A8 L\",14)\n"
   ]
  },
  {
   "cell_type": "code",
   "execution_count": 7,
   "id": "1eb3b57a",
   "metadata": {},
   "outputs": [
    {
     "data": {
      "text/plain": [
       "'The Audi A8 L car gives the mileage of 14km/l'"
      ]
     },
     "execution_count": 7,
     "metadata": {},
     "output_type": "execute_result"
    }
   ],
   "source": [
    "obj2.description()"
   ]
  },
  {
   "cell_type": "code",
   "execution_count": 49,
   "id": "ab69f664",
   "metadata": {},
   "outputs": [
    {
     "data": {
      "text/plain": [
       "'This is the description method of class Audi.'"
      ]
     },
     "execution_count": 49,
     "metadata": {},
     "output_type": "execute_result"
    }
   ],
   "source": [
    "obj2.audi_desc()"
   ]
  },
  {
   "cell_type": "code",
   "execution_count": 8,
   "id": "0df6b98b",
   "metadata": {},
   "outputs": [
    {
     "data": {
      "text/plain": [
       "'Audi A8 L'"
      ]
     },
     "execution_count": 8,
     "metadata": {},
     "output_type": "execute_result"
    }
   ],
   "source": [
    "obj2.name"
   ]
  },
  {
   "cell_type": "code",
   "execution_count": 10,
   "id": "895e89c2",
   "metadata": {},
   "outputs": [
    {
     "data": {
      "text/plain": [
       "14"
      ]
     },
     "execution_count": 10,
     "metadata": {},
     "output_type": "execute_result"
    }
   ],
   "source": [
    "obj2.mileage"
   ]
  },
  {
   "cell_type": "markdown",
   "id": "479f822d",
   "metadata": {},
   "source": [
    "# Encapsulation"
   ]
  },
  {
   "cell_type": "code",
   "execution_count": 26,
   "id": "f6eff8e3",
   "metadata": {},
   "outputs": [],
   "source": [
    "class car:\n",
    "\n",
    "    def __init__(self, name, mileage):\n",
    "        self.name__= name                #protected variable\n",
    "        self.mileage__= mileage \n",
    "\n",
    "    def description(self):                \n",
    "        return f\"The {self.name__} car gives the mileage of {self.mileage__}km/l\""
   ]
  },
  {
   "cell_type": "code",
   "execution_count": 28,
   "id": "b12556e9",
   "metadata": {},
   "outputs": [],
   "source": [
    "obj = car(\"BMW 7-series\",39.53)"
   ]
  },
  {
   "cell_type": "code",
   "execution_count": 13,
   "id": "b3fbcfee",
   "metadata": {},
   "outputs": [
    {
     "name": "stdout",
     "output_type": "stream",
     "text": [
      "The BMW 7-series car gives the mileage of 39.53km/l\n"
     ]
    }
   ],
   "source": [
    "#accessing protected variable via class method \n",
    "print(obj.description())\n"
   ]
  },
  {
   "cell_type": "code",
   "execution_count": 18,
   "id": "236f4357",
   "metadata": {},
   "outputs": [
    {
     "name": "stdout",
     "output_type": "stream",
     "text": [
      "BMW 7-series\n",
      "39.53\n"
     ]
    }
   ],
   "source": [
    "#accessing protected variable directly from outside\n",
    "print(obj.name__)\n",
    "print(obj.mileage__)"
   ]
  },
  {
   "cell_type": "code",
   "execution_count": 38,
   "id": "e98bef4a",
   "metadata": {},
   "outputs": [],
   "source": [
    "class Car:\n",
    "\n",
    "    def __init__(self, name, mileage):\n",
    "        self.__name = name              #private variable        \n",
    "        self.__mileage = mileage \n",
    "\n",
    "    def description(self):\n",
    "        \"des of your car with milleage\"\n",
    "        return f\"The {self.__name} car gives the mileage of {self.__mileage}km/l\""
   ]
  },
  {
   "cell_type": "code",
   "execution_count": 39,
   "id": "1a455da0",
   "metadata": {},
   "outputs": [],
   "source": [
    "obj = Car(\"BMW 7-series\",39.53)\n"
   ]
  },
  {
   "cell_type": "code",
   "execution_count": 41,
   "id": "b0004551",
   "metadata": {},
   "outputs": [
    {
     "name": "stdout",
     "output_type": "stream",
     "text": [
      "The BMW 7-series car gives the mileage of 39.53km/l\n",
      "39.53\n",
      "BMW 7-series\n"
     ]
    }
   ],
   "source": [
    "obj = Car(\"BMW 7-series\",39.53)\n",
    "\n",
    "#accessing private variable via class method \n",
    "print(obj.description())\n",
    "\n",
    "#accessing private variable directly from outside\n",
    "print(obj._Car__mileage)\n",
    "print(obj._Car__name)      #mangled name"
   ]
  },
  {
   "cell_type": "code",
   "execution_count": 40,
   "id": "edfa0dc1",
   "metadata": {},
   "outputs": [
    {
     "data": {
      "text/plain": [
       "'The BMW 7-series car gives the mileage of 39.53km/l'"
      ]
     },
     "execution_count": 40,
     "metadata": {},
     "output_type": "execute_result"
    }
   ],
   "source": [
    "obj.description()"
   ]
  },
  {
   "cell_type": "markdown",
   "id": "02fa5d37",
   "metadata": {},
   "source": [
    "# Polymorphism\n",
    "\n",
    "Methods having the same names but carrying different functionalities."
   ]
  },
  {
   "cell_type": "code",
   "execution_count": 108,
   "id": "a31af85b",
   "metadata": {},
   "outputs": [],
   "source": [
    "class Audi:\n",
    "    def description(self):\n",
    "        print(\"This the description function of class AUDI.\")\n",
    "\n",
    "class BMW:\n",
    "    def description(self):\n",
    "        print(\"This the description function of class BMW.\")"
   ]
  },
  {
   "cell_type": "code",
   "execution_count": 96,
   "id": "b86bc478",
   "metadata": {},
   "outputs": [
    {
     "name": "stdout",
     "output_type": "stream",
     "text": [
      "This the description function of class AUDI.\n",
      "This the description function of class BMW.\n"
     ]
    }
   ],
   "source": [
    "audi = Audi()\n",
    "bmw = BMW()\n",
    "for i in (audi,bmw):\n",
    "    i.description()"
   ]
  },
  {
   "cell_type": "markdown",
   "id": "dd7db094",
   "metadata": {},
   "source": [
    "# Data abstraction\n",
    "An abstract class can be considered as a blueprint for other classes. "
   ]
  },
  {
   "cell_type": "code",
   "execution_count": 42,
   "id": "509e2df8",
   "metadata": {},
   "outputs": [],
   "source": [
    "class Person:   \n",
    "    def __init__(self):\n",
    "        pass\n",
    "\n",
    "    def bio(self):\n",
    "        self.name=\"Sabari\"\n",
    "        self.addr = \"Bakers street, London\"\n",
    "        self.taxInfo = \"HUAPK29971\"\n",
    "        self.contact = \"01-777-523-342\"\n",
    "        return self.name, self.addr, self.taxInfo, self.contact\n",
    "\n",
    "    def interest(self):\n",
    "        self.favFood = \"Chinese\"\n",
    "        self.hobbies = \"Python Programming\"\n",
    "        self.bloodGroup = \"A+\"\n",
    "        return self.favFood, self.hobbies, self.bloodGroup\n"
   ]
  },
  {
   "cell_type": "code",
   "execution_count": 48,
   "id": "d4044950",
   "metadata": {},
   "outputs": [],
   "source": [
    "class loan :\n",
    "    \n",
    "    def __init__(self,name,addr,contact,favFood ):\n",
    "        self.name=name\n",
    "        self.addr=addr\n",
    "        self.contact=contact\n",
    "        self.favFood=favFood\n",
    "        \n",
    "    def bio(self):\n",
    "        return self.name, self.addr, self.contact\n",
    "    def interest(self):\n",
    "        return self.favFood"
   ]
  },
  {
   "cell_type": "code",
   "execution_count": 49,
   "id": "8942c884",
   "metadata": {},
   "outputs": [],
   "source": [
    "m= loan(\"Sabari\",\"Bakers street London\",\"01-777-523-342\",\"Chinese\")\n"
   ]
  },
  {
   "cell_type": "code",
   "execution_count": 50,
   "id": "3aa37f39",
   "metadata": {},
   "outputs": [
    {
     "data": {
      "text/plain": [
       "('Sabari', 'Bakers street London', '01-777-523-342')"
      ]
     },
     "execution_count": 50,
     "metadata": {},
     "output_type": "execute_result"
    }
   ],
   "source": [
    "m.bio()"
   ]
  },
  {
   "cell_type": "code",
   "execution_count": 51,
   "id": "e3e79d91",
   "metadata": {},
   "outputs": [
    {
     "data": {
      "text/plain": [
       "'Chinese'"
      ]
     },
     "execution_count": 51,
     "metadata": {},
     "output_type": "execute_result"
    }
   ],
   "source": [
    "m.interest()"
   ]
  }
 ],
 "metadata": {
  "kernelspec": {
   "display_name": "Python 3 (ipykernel)",
   "language": "python",
   "name": "python3"
  },
  "language_info": {
   "codemirror_mode": {
    "name": "ipython",
    "version": 3
   },
   "file_extension": ".py",
   "mimetype": "text/x-python",
   "name": "python",
   "nbconvert_exporter": "python",
   "pygments_lexer": "ipython3",
   "version": "3.10.7"
  }
 },
 "nbformat": 4,
 "nbformat_minor": 5
}
