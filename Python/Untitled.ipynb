{
 "cells": [
  {
   "cell_type": "code",
   "execution_count": 8,
   "id": "7d4d951b",
   "metadata": {},
   "outputs": [],
   "source": [
    "from math_module import sub,tax,total_price"
   ]
  },
  {
   "cell_type": "code",
   "execution_count": 9,
   "id": "f3790dbe",
   "metadata": {},
   "outputs": [
    {
     "data": {
      "text/plain": [
       "(2, 3, -1)"
      ]
     },
     "execution_count": 9,
     "metadata": {},
     "output_type": "execute_result"
    }
   ],
   "source": [
    "sub(3,2)"
   ]
  },
  {
   "cell_type": "code",
   "execution_count": 11,
   "id": "4e639aa7",
   "metadata": {},
   "outputs": [
    {
     "ename": "NameError",
     "evalue": "name 'tax_per' is not defined",
     "output_type": "error",
     "traceback": [
      "\u001b[1;31m---------------------------------------------------------------------------\u001b[0m",
      "\u001b[1;31mNameError\u001b[0m                                 Traceback (most recent call last)",
      "Cell \u001b[1;32mIn [11], line 1\u001b[0m\n\u001b[1;32m----> 1\u001b[0m a\u001b[38;5;241m=\u001b[39mtax(\u001b[38;5;241m300\u001b[39m,\u001b[38;5;241m18\u001b[39m)\n\u001b[0;32m      2\u001b[0m \u001b[38;5;28mprint\u001b[39m(a)\n\u001b[0;32m      3\u001b[0m price\u001b[38;5;241m=\u001b[39mtotal_price(\u001b[38;5;241m3\u001b[39m\u001b[38;5;241m*\u001b[39ma)\n",
      "File \u001b[1;32mD:\\Batch -2\\Data-Science-Notes\\Python\\math_module.py:21\u001b[0m, in \u001b[0;36mtax\u001b[1;34m(price, tax_perc)\u001b[0m\n\u001b[0;32m     20\u001b[0m \u001b[38;5;28;01mdef\u001b[39;00m \u001b[38;5;21mtax\u001b[39m (price,tax_perc):\n\u001b[1;32m---> 21\u001b[0m     tax_amount\u001b[38;5;241m=\u001b[39mprice\u001b[38;5;241m+\u001b[39m((price\u001b[38;5;241m/\u001b[39m\u001b[38;5;241m100\u001b[39m)\u001b[38;5;241m*\u001b[39m\u001b[43mtax_per\u001b[49m)\n\u001b[0;32m     22\u001b[0m     \u001b[38;5;28;01mreturn\u001b[39;00m price\n",
      "\u001b[1;31mNameError\u001b[0m: name 'tax_per' is not defined"
     ]
    }
   ],
   "source": [
    "a=tax(300,18)\n",
    "print(a)\n",
    "price=total_price(3*a)\n",
    "print(price)"
   ]
  },
  {
   "cell_type": "code",
   "execution_count": null,
   "id": "f82aa39d",
   "metadata": {},
   "outputs": [],
   "source": []
  }
 ],
 "metadata": {
  "kernelspec": {
   "display_name": "Python 3 (ipykernel)",
   "language": "python",
   "name": "python3"
  },
  "language_info": {
   "codemirror_mode": {
    "name": "ipython",
    "version": 3
   },
   "file_extension": ".py",
   "mimetype": "text/x-python",
   "name": "python",
   "nbconvert_exporter": "python",
   "pygments_lexer": "ipython3",
   "version": "3.10.7"
  }
 },
 "nbformat": 4,
 "nbformat_minor": 5
}
