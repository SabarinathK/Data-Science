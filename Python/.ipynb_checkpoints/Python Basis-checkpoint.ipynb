{
 "cells": [
  {
   "cell_type": "markdown",
   "id": "ac1080cd",
   "metadata": {},
   "source": [
    "# Python Basics"
   ]
  },
  {
   "cell_type": "markdown",
   "id": "3b87432a",
   "metadata": {},
   "source": [
    "## Variables\n",
    "\n",
    "- Caps sensitive\n",
    "- not start with number but it can end with number\n",
    "- space is not allowed\n",
    "    - u can use My_Integer,MyInteger,_My_Integer,MyInteger1,\n"
   ]
  },
  {
   "cell_type": "code",
   "execution_count": 13,
   "id": "4000abf0",
   "metadata": {},
   "outputs": [
    {
     "name": "stdout",
     "output_type": "stream",
     "text": [
      "1\n",
      "3\n"
     ]
    }
   ],
   "source": [
    "#Caps sensistive\n",
    "a=1\n",
    "A=3\n",
    "print(a)\n",
    "print(A)"
   ]
  },
  {
   "cell_type": "code",
   "execution_count": 14,
   "id": "3e6eb5e4",
   "metadata": {},
   "outputs": [
    {
     "name": "stdout",
     "output_type": "stream",
     "text": [
      "1\n"
     ]
    }
   ],
   "source": [
    "print(a)"
   ]
  },
  {
   "cell_type": "code",
   "execution_count": 15,
   "id": "74a47be5",
   "metadata": {},
   "outputs": [],
   "source": [
    "#Variable update\n",
    "a=4"
   ]
  },
  {
   "cell_type": "code",
   "execution_count": 16,
   "id": "f88b688a",
   "metadata": {},
   "outputs": [
    {
     "name": "stdout",
     "output_type": "stream",
     "text": [
      "4\n"
     ]
    }
   ],
   "source": [
    "print(a)"
   ]
  },
  {
   "cell_type": "code",
   "execution_count": null,
   "id": "8dfea0a2",
   "metadata": {},
   "outputs": [],
   "source": [
    "MyIntegerIs=1\n",
    "myIntegerIs"
   ]
  },
  {
   "cell_type": "code",
   "execution_count": 17,
   "id": "5793e6bb",
   "metadata": {},
   "outputs": [],
   "source": [
    "#string('',\"\")\n",
    "a,b,c='apple','ball','cat'"
   ]
  },
  {
   "cell_type": "code",
   "execution_count": 21,
   "id": "6b6649b9",
   "metadata": {},
   "outputs": [
    {
     "name": "stdout",
     "output_type": "stream",
     "text": [
      "apple ball cat\n"
     ]
    }
   ],
   "source": [
    "print(a,b,c)"
   ]
  },
  {
   "cell_type": "markdown",
   "id": "b418d84b",
   "metadata": {},
   "source": [
    "## Data Types\n",
    "\n",
    "Built in Basics Types\n",
    "- Numbers\n",
    "   - Integer (int), ex:1\n",
    "   - float(float), ex:1.5\n",
    "   - Complex number (complex) ex: 1+2J\n",
    "   \n",
    "- Text (' ', \" \")\n",
    "  - string (str)\n",
    "  \n",
    "- Boolean Types\n",
    "   - (bool)\n",
    "   The values are \n",
    "   - True\n",
    "   - False\n",
    "- None Type\n",
    "   - None"
   ]
  },
  {
   "cell_type": "code",
   "execution_count": 37,
   "id": "e70984c3",
   "metadata": {},
   "outputs": [
    {
     "name": "stdout",
     "output_type": "stream",
     "text": [
      "<class 'int'>\n",
      "<class 'int'>\n",
      "<class 'bool'>\n",
      "<class 'NoneType'>\n"
     ]
    }
   ],
   "source": [
    "print(type(a))\n",
    "print(type(A))\n",
    "print(type(False))\n",
    "print(type(None))"
   ]
  },
  {
   "cell_type": "markdown",
   "id": "1986eda0",
   "metadata": {},
   "source": [
    "## Number\n",
    "   - Integer (int), ex:1\n",
    "   - float(float), ex:1.5\n",
    "   - Complex number (complex) ex: 1+2J"
   ]
  },
  {
   "cell_type": "code",
   "execution_count": 38,
   "id": "3ed565f6",
   "metadata": {},
   "outputs": [
    {
     "data": {
      "text/plain": [
       "int"
      ]
     },
     "execution_count": 38,
     "metadata": {},
     "output_type": "execute_result"
    }
   ],
   "source": [
    "a=1\n",
    "type(a)"
   ]
  },
  {
   "cell_type": "code",
   "execution_count": 34,
   "id": "8f224b86",
   "metadata": {},
   "outputs": [
    {
     "data": {
      "text/plain": [
       "float"
      ]
     },
     "execution_count": 34,
     "metadata": {},
     "output_type": "execute_result"
    }
   ],
   "source": [
    "b=1.5\n",
    "type(b)"
   ]
  },
  {
   "cell_type": "code",
   "execution_count": 36,
   "id": "ae2ffa03",
   "metadata": {},
   "outputs": [
    {
     "data": {
      "text/plain": [
       "complex"
      ]
     },
     "execution_count": 36,
     "metadata": {},
     "output_type": "execute_result"
    }
   ],
   "source": [
    "c= 1+2J\n",
    "type(c)"
   ]
  },
  {
   "cell_type": "markdown",
   "id": "6ffb3b76",
   "metadata": {},
   "source": [
    "### Type Casting "
   ]
  },
  {
   "cell_type": "code",
   "execution_count": 48,
   "id": "8865f1c9",
   "metadata": {},
   "outputs": [
    {
     "name": "stdout",
     "output_type": "stream",
     "text": [
      "3.0\n"
     ]
    },
    {
     "data": {
      "text/plain": [
       "float"
      ]
     },
     "execution_count": 48,
     "metadata": {},
     "output_type": "execute_result"
    }
   ],
   "source": [
    "a=3\n",
    "a=float(a)\n",
    "print(a)\n",
    "type(a)"
   ]
  },
  {
   "cell_type": "code",
   "execution_count": 51,
   "id": "b7ad6605",
   "metadata": {},
   "outputs": [
    {
     "name": "stdout",
     "output_type": "stream",
     "text": [
      "2\n"
     ]
    },
    {
     "data": {
      "text/plain": [
       "int"
      ]
     },
     "execution_count": 51,
     "metadata": {},
     "output_type": "execute_result"
    }
   ],
   "source": [
    "b=2.6                # it will not round the value while casting\n",
    "b=int(b)\n",
    "print(b)\n",
    "type(b)"
   ]
  },
  {
   "cell_type": "markdown",
   "id": "561f71f4",
   "metadata": {},
   "source": [
    "## String  \n",
    "- Text (' ', \" \")\n",
    "  - It should end and start with same \n",
    "  - string (str)"
   ]
  },
  {
   "cell_type": "code",
   "execution_count": 56,
   "id": "01c2a182",
   "metadata": {},
   "outputs": [
    {
     "data": {
      "text/plain": [
       "'i am learning data science'"
      ]
     },
     "execution_count": 56,
     "metadata": {},
     "output_type": "execute_result"
    }
   ],
   "source": [
    "d='i am learning data science'\n",
    "d"
   ]
  },
  {
   "cell_type": "code",
   "execution_count": 57,
   "id": "5fb18a47",
   "metadata": {},
   "outputs": [
    {
     "data": {
      "text/plain": [
       "str"
      ]
     },
     "execution_count": 57,
     "metadata": {},
     "output_type": "execute_result"
    }
   ],
   "source": [
    "type(d)"
   ]
  },
  {
   "cell_type": "code",
   "execution_count": 58,
   "id": "e0a0b1c0",
   "metadata": {},
   "outputs": [
    {
     "data": {
      "text/plain": [
       "'i am learning data science'"
      ]
     },
     "execution_count": 58,
     "metadata": {},
     "output_type": "execute_result"
    }
   ],
   "source": [
    "f= \"i am learning data science\"\n",
    "f"
   ]
  },
  {
   "cell_type": "code",
   "execution_count": 59,
   "id": "d67e4a06",
   "metadata": {},
   "outputs": [
    {
     "data": {
      "text/plain": [
       "str"
      ]
     },
     "execution_count": 59,
     "metadata": {},
     "output_type": "execute_result"
    }
   ],
   "source": [
    "type(f)"
   ]
  },
  {
   "cell_type": "markdown",
   "id": "8a16c3b4",
   "metadata": {},
   "source": [
    "## Sting Indexing [ ] &  String Slicing\n",
    "- Normally index in python start with 0\n",
    "   - postive index (1)\n",
    "   -  negative index (-1)\n",
    "- Index can be used fro updating the string"
   ]
  },
  {
   "cell_type": "code",
   "execution_count": 122,
   "id": "82281045",
   "metadata": {},
   "outputs": [],
   "source": [
    "s='PYTHON'"
   ]
  },
  {
   "cell_type": "code",
   "execution_count": 123,
   "id": "a6f3a5ba",
   "metadata": {},
   "outputs": [
    {
     "data": {
      "text/plain": [
       "'Y'"
      ]
     },
     "execution_count": 123,
     "metadata": {},
     "output_type": "execute_result"
    }
   ],
   "source": [
    "#index\n",
    "s[1]"
   ]
  },
  {
   "cell_type": "code",
   "execution_count": 74,
   "id": "01b1c06f",
   "metadata": {},
   "outputs": [
    {
     "data": {
      "text/plain": [
       "'PYT'"
      ]
     },
     "execution_count": 74,
     "metadata": {},
     "output_type": "execute_result"
    }
   ],
   "source": [
    "#slicing\n",
    "s[0:3]"
   ]
  },
  {
   "cell_type": "code",
   "execution_count": 76,
   "id": "fd4bb736",
   "metadata": {},
   "outputs": [
    {
     "data": {
      "text/plain": [
       "6"
      ]
     },
     "execution_count": 76,
     "metadata": {},
     "output_type": "execute_result"
    }
   ],
   "source": [
    "# to find the length of str\n",
    "len(s)"
   ]
  },
  {
   "cell_type": "code",
   "execution_count": 78,
   "id": "d1aeb54c",
   "metadata": {},
   "outputs": [
    {
     "data": {
      "text/plain": [
       "'Y'"
      ]
     },
     "execution_count": 78,
     "metadata": {},
     "output_type": "execute_result"
    }
   ],
   "source": [
    "# positive\n",
    "s[1]"
   ]
  },
  {
   "cell_type": "code",
   "execution_count": 82,
   "id": "8c7205f5",
   "metadata": {},
   "outputs": [
    {
     "data": {
      "text/plain": [
       "'N'"
      ]
     },
     "execution_count": 82,
     "metadata": {},
     "output_type": "execute_result"
    }
   ],
   "source": [
    "# neagtive\n",
    "s[-1]"
   ]
  },
  {
   "cell_type": "code",
   "execution_count": 90,
   "id": "27c91ec6",
   "metadata": {},
   "outputs": [
    {
     "data": {
      "text/plain": [
       "'PYT'"
      ]
     },
     "execution_count": 90,
     "metadata": {},
     "output_type": "execute_result"
    }
   ],
   "source": [
    "# postive slicing\n",
    "s[:3]"
   ]
  },
  {
   "cell_type": "code",
   "execution_count": 92,
   "id": "003e9866",
   "metadata": {},
   "outputs": [
    {
     "data": {
      "text/plain": [
       "'HON'"
      ]
     },
     "execution_count": 92,
     "metadata": {},
     "output_type": "execute_result"
    }
   ],
   "source": [
    "# negatice slicing\n",
    "s[-3:]"
   ]
  },
  {
   "cell_type": "code",
   "execution_count": 96,
   "id": "8f7b3a1a",
   "metadata": {},
   "outputs": [
    {
     "data": {
      "text/plain": [
       "'HON'"
      ]
     },
     "execution_count": 96,
     "metadata": {},
     "output_type": "execute_result"
    }
   ],
   "source": [
    "# to the end\n",
    "s[3:]"
   ]
  },
  {
   "cell_type": "code",
   "execution_count": 112,
   "id": "0f3a93b5",
   "metadata": {},
   "outputs": [
    {
     "data": {
      "text/plain": [
       "1"
      ]
     },
     "execution_count": 112,
     "metadata": {},
     "output_type": "execute_result"
    }
   ],
   "source": [
    "s.index('Y')"
   ]
  },
  {
   "cell_type": "markdown",
   "id": "92b5f27b",
   "metadata": {},
   "source": [
    "### Updating String"
   ]
  },
  {
   "cell_type": "code",
   "execution_count": 161,
   "id": "9a06c4a6",
   "metadata": {},
   "outputs": [],
   "source": [
    "s=\"PYTHON\""
   ]
  },
  {
   "cell_type": "code",
   "execution_count": 160,
   "id": "16a6c3b1",
   "metadata": {},
   "outputs": [
    {
     "data": {
      "text/plain": [
       "'Mython'"
      ]
     },
     "execution_count": 160,
     "metadata": {},
     "output_type": "execute_result"
    }
   ],
   "source": [
    "s.replace('P','M')"
   ]
  },
  {
   "cell_type": "code",
   "execution_count": 169,
   "id": "32796ab5",
   "metadata": {},
   "outputs": [
    {
     "data": {
      "text/plain": [
       "'Mango'"
      ]
     },
     "execution_count": 169,
     "metadata": {},
     "output_type": "execute_result"
    }
   ],
   "source": [
    "s.replace('PYTHON','Mango')"
   ]
  },
  {
   "cell_type": "markdown",
   "id": "e1b0230d",
   "metadata": {},
   "source": [
    "### Concat Strings"
   ]
  },
  {
   "cell_type": "code",
   "execution_count": 170,
   "id": "8d9dbd30",
   "metadata": {},
   "outputs": [],
   "source": [
    "a='apple'\n",
    "b='is a fruit'"
   ]
  },
  {
   "cell_type": "code",
   "execution_count": 168,
   "id": "8c6f358c",
   "metadata": {},
   "outputs": [
    {
     "data": {
      "text/plain": [
       "'apple is a fruit'"
      ]
     },
     "execution_count": 168,
     "metadata": {},
     "output_type": "execute_result"
    }
   ],
   "source": [
    "a+''+b  # have  to use white space"
   ]
  },
  {
   "cell_type": "code",
   "execution_count": null,
   "id": "ad9f080e",
   "metadata": {},
   "outputs": [],
   "source": []
  },
  {
   "cell_type": "markdown",
   "id": "5cef134b",
   "metadata": {},
   "source": [
    "### String with whitespace"
   ]
  },
  {
   "cell_type": "code",
   "execution_count": 133,
   "id": "c462f692",
   "metadata": {},
   "outputs": [
    {
     "name": "stdout",
     "output_type": "stream",
     "text": [
      "length of 's' : 6 - without whitespace\n",
      "length of a : 7 - With whitespace\n"
     ]
    }
   ],
   "source": [
    "# white space are counted in index\n",
    "\n",
    "s= 'Python'\n",
    "print(\"length of 's' :\",len(s),'- without whitespace')\n",
    "\n",
    "a=' Python'      # has whitespace\n",
    "print('length of a :',len(a),'- With whitespace')"
   ]
  },
  {
   "cell_type": "code",
   "execution_count": 127,
   "id": "3422a8b9",
   "metadata": {},
   "outputs": [
    {
     "data": {
      "text/plain": [
       "'i am'"
      ]
     },
     "execution_count": 127,
     "metadata": {},
     "output_type": "execute_result"
    }
   ],
   "source": [
    "f= 'i am learning data science'\n",
    "\n",
    "f[:4]"
   ]
  },
  {
   "cell_type": "markdown",
   "id": "49841bd3",
   "metadata": {},
   "source": [
    "### Type casting in string\n"
   ]
  },
  {
   "cell_type": "code",
   "execution_count": 155,
   "id": "d01c1892",
   "metadata": {},
   "outputs": [
    {
     "data": {
      "text/plain": [
       "'1'"
      ]
     },
     "execution_count": 155,
     "metadata": {},
     "output_type": "execute_result"
    }
   ],
   "source": [
    "a=str(1)\n",
    "a"
   ]
  },
  {
   "cell_type": "code",
   "execution_count": 148,
   "id": "77cb6511",
   "metadata": {},
   "outputs": [
    {
     "data": {
      "text/plain": [
       "str"
      ]
     },
     "execution_count": 148,
     "metadata": {},
     "output_type": "execute_result"
    }
   ],
   "source": [
    "type(a)"
   ]
  },
  {
   "cell_type": "code",
   "execution_count": 154,
   "id": "6a094c37",
   "metadata": {},
   "outputs": [
    {
     "ename": "ValueError",
     "evalue": "could not convert string to float: '2.5a'",
     "output_type": "error",
     "traceback": [
      "\u001b[1;31m---------------------------------------------------------------------------\u001b[0m",
      "\u001b[1;31mValueError\u001b[0m                                Traceback (most recent call last)",
      "Cell \u001b[1;32mIn [154], line 1\u001b[0m\n\u001b[1;32m----> 1\u001b[0m b\u001b[38;5;241m=\u001b[39m\u001b[38;5;28mfloat\u001b[39m(\u001b[38;5;124m'\u001b[39m\u001b[38;5;124m2.5a\u001b[39m\u001b[38;5;124m'\u001b[39m)\n\u001b[0;32m      2\u001b[0m b\n",
      "\u001b[1;31mValueError\u001b[0m: could not convert string to float: '2.5a'"
     ]
    }
   ],
   "source": [
    "b=float('2.5a')\n",
    "b"
   ]
  },
  {
   "cell_type": "code",
   "execution_count": 153,
   "id": "69dc299f",
   "metadata": {},
   "outputs": [
    {
     "data": {
      "text/plain": [
       "float"
      ]
     },
     "execution_count": 153,
     "metadata": {},
     "output_type": "execute_result"
    }
   ],
   "source": [
    "type(b)"
   ]
  },
  {
   "cell_type": "code",
   "execution_count": null,
   "id": "4310f487",
   "metadata": {},
   "outputs": [],
   "source": []
  },
  {
   "cell_type": "code",
   "execution_count": null,
   "id": "412f549d",
   "metadata": {},
   "outputs": [],
   "source": []
  },
  {
   "cell_type": "code",
   "execution_count": null,
   "id": "90b45660",
   "metadata": {},
   "outputs": [],
   "source": []
  },
  {
   "cell_type": "code",
   "execution_count": null,
   "id": "d21905f5",
   "metadata": {},
   "outputs": [],
   "source": []
  },
  {
   "cell_type": "markdown",
   "id": "acc63d3d",
   "metadata": {},
   "source": [
    "#### Characters of string"
   ]
  },
  {
   "cell_type": "code",
   "execution_count": 67,
   "id": "a02b1816",
   "metadata": {},
   "outputs": [
    {
     "ename": "SyntaxError",
     "evalue": "unterminated string literal (detected at line 2) (1930542500.py, line 2)",
     "output_type": "error",
     "traceback": [
      "\u001b[1;36m  Cell \u001b[1;32mIn [67], line 2\u001b[1;36m\u001b[0m\n\u001b[1;33m    d='i am learning\u001b[0m\n\u001b[1;37m      ^\u001b[0m\n\u001b[1;31mSyntaxError\u001b[0m\u001b[1;31m:\u001b[0m unterminated string literal (detected at line 2)\n"
     ]
    }
   ],
   "source": [
    "# don't break the line while using single and double quote\n",
    "d='i am learning\n",
    "data science'\n",
    "d"
   ]
  },
  {
   "cell_type": "code",
   "execution_count": 64,
   "id": "dc6a7867",
   "metadata": {},
   "outputs": [
    {
     "ename": "SyntaxError",
     "evalue": "unterminated string literal (detected at line 1) (4232850146.py, line 1)",
     "output_type": "error",
     "traceback": [
      "\u001b[1;36m  Cell \u001b[1;32mIn [64], line 1\u001b[1;36m\u001b[0m\n\u001b[1;33m    g='today's NEWS'\u001b[0m\n\u001b[1;37m                   ^\u001b[0m\n\u001b[1;31mSyntaxError\u001b[0m\u001b[1;31m:\u001b[0m unterminated string literal (detected at line 1)\n"
     ]
    }
   ],
   "source": [
    "g='today's NEWS'"
   ]
  },
  {
   "cell_type": "code",
   "execution_count": 65,
   "id": "8258d029",
   "metadata": {},
   "outputs": [],
   "source": [
    "g=\"today's NEWS\""
   ]
  },
  {
   "cell_type": "code",
   "execution_count": 66,
   "id": "22ea4aaf",
   "metadata": {},
   "outputs": [],
   "source": [
    "# You can break the line using triple quote\n",
    "# for documentation in funtion - Doc string\n",
    "\n",
    "c=\"\"\" I\n",
    "am\n",
    "learning\n",
    "data science\n",
    "\"\"\""
   ]
  },
  {
   "cell_type": "code",
   "execution_count": 69,
   "id": "d59efc5e",
   "metadata": {},
   "outputs": [],
   "source": [
    "\n",
    "c='''\n",
    "I\n",
    "am\n",
    "learning\n",
    "data science\n",
    "\n",
    "'''"
   ]
  },
  {
   "cell_type": "code",
   "execution_count": null,
   "id": "89fc23c0",
   "metadata": {},
   "outputs": [],
   "source": [
    "print()"
   ]
  }
 ],
 "metadata": {
  "kernelspec": {
   "display_name": "Python 3 (ipykernel)",
   "language": "python",
   "name": "python3"
  },
  "language_info": {
   "codemirror_mode": {
    "name": "ipython",
    "version": 3
   },
   "file_extension": ".py",
   "mimetype": "text/x-python",
   "name": "python",
   "nbconvert_exporter": "python",
   "pygments_lexer": "ipython3",
   "version": "3.10.7"
  }
 },
 "nbformat": 4,
 "nbformat_minor": 5
}
