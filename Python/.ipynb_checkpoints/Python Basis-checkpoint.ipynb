{
 "cells": [
  {
   "cell_type": "markdown",
   "id": "ac1080cd",
   "metadata": {},
   "source": [
    "# Python Basics"
   ]
  },
  {
   "cell_type": "markdown",
   "id": "3b87432a",
   "metadata": {},
   "source": [
    "## Variables\n",
    "\n",
    "- Caps sensitive\n",
    "- not start with number but it can end with number\n",
    "- space is not allowed\n",
    "    - u can use My_Integer,MyInteger,_My_Integer,MyInteger1,\n"
   ]
  },
  {
   "cell_type": "code",
   "execution_count": null,
   "id": "4000abf0",
   "metadata": {},
   "outputs": [],
   "source": [
    "#Caps sensistive\n",
    "a=1\n",
    "A=3\n",
    "print(a)\n",
    "print(A)"
   ]
  },
  {
   "cell_type": "code",
   "execution_count": null,
   "id": "3e6eb5e4",
   "metadata": {},
   "outputs": [],
   "source": [
    "print(a)"
   ]
  },
  {
   "cell_type": "code",
   "execution_count": null,
   "id": "74a47be5",
   "metadata": {},
   "outputs": [],
   "source": [
    "#Variable update\n",
    "a=4"
   ]
  },
  {
   "cell_type": "code",
   "execution_count": null,
   "id": "f88b688a",
   "metadata": {},
   "outputs": [],
   "source": [
    "print(a)"
   ]
  },
  {
   "cell_type": "code",
   "execution_count": null,
   "id": "8dfea0a2",
   "metadata": {},
   "outputs": [],
   "source": [
    "MyIntegerIs=1\n",
    "myIntegerIs"
   ]
  },
  {
   "cell_type": "code",
   "execution_count": null,
   "id": "5793e6bb",
   "metadata": {},
   "outputs": [],
   "source": [
    "#string('',\"\")\n",
    "a,b,c='apple','ball','cat'"
   ]
  },
  {
   "cell_type": "code",
   "execution_count": null,
   "id": "6b6649b9",
   "metadata": {},
   "outputs": [],
   "source": [
    "print(a,b,c)"
   ]
  },
  {
   "cell_type": "markdown",
   "id": "b418d84b",
   "metadata": {},
   "source": [
    "## Data Types\n",
    "\n",
    "Built in Basics Types\n",
    "- Numbers\n",
    "   - Integer (int), ex:1\n",
    "   - float(float), ex:1.5\n",
    "   - Complex number (complex) ex: 1+2J\n",
    "   \n",
    "- Text (' ', \" \")\n",
    "  - string (str)\n",
    "  \n",
    "- Boolean Types\n",
    "   - (bool)\n",
    "   The values are \n",
    "   - True\n",
    "   - False\n",
    "- List []\n",
    "- Tuple ()\n",
    "- Set {}\n",
    "- Dictionary {}  \n",
    "- None Type\n",
    "   - None"
   ]
  },
  {
   "cell_type": "code",
   "execution_count": null,
   "id": "e70984c3",
   "metadata": {},
   "outputs": [],
   "source": [
    "print(type(a))\n",
    "print(type(A))\n",
    "print(type(False))\n",
    "print(type(None))"
   ]
  },
  {
   "cell_type": "markdown",
   "id": "1986eda0",
   "metadata": {},
   "source": [
    "## Number\n",
    "   - Integer (int), ex:1\n",
    "   - float(float), ex:1.5\n",
    "   - Complex number (complex) ex: 1+2J"
   ]
  },
  {
   "cell_type": "code",
   "execution_count": null,
   "id": "3ed565f6",
   "metadata": {},
   "outputs": [],
   "source": [
    "a=1\n",
    "type(a)"
   ]
  },
  {
   "cell_type": "code",
   "execution_count": null,
   "id": "8f224b86",
   "metadata": {},
   "outputs": [],
   "source": [
    "b=1.5\n",
    "type(b)"
   ]
  },
  {
   "cell_type": "code",
   "execution_count": null,
   "id": "ae2ffa03",
   "metadata": {},
   "outputs": [],
   "source": [
    "c= 1+2J\n",
    "type(c)"
   ]
  },
  {
   "cell_type": "markdown",
   "id": "6ffb3b76",
   "metadata": {},
   "source": [
    "### Type Casting "
   ]
  },
  {
   "cell_type": "code",
   "execution_count": null,
   "id": "8865f1c9",
   "metadata": {},
   "outputs": [],
   "source": [
    "a=3\n",
    "a=float(a)\n",
    "print(a)\n",
    "type(a)"
   ]
  },
  {
   "cell_type": "code",
   "execution_count": null,
   "id": "b7ad6605",
   "metadata": {},
   "outputs": [],
   "source": [
    "b=2.6                # it will not round the value while casting\n",
    "b=int(b)\n",
    "print(b)\n",
    "type(b)"
   ]
  },
  {
   "cell_type": "markdown",
   "id": "561f71f4",
   "metadata": {},
   "source": [
    "## String  \n",
    "- Text (' ', \" \")\n",
    "  - It should end and start with same \n",
    "  - string (str)"
   ]
  },
  {
   "cell_type": "code",
   "execution_count": null,
   "id": "01c2a182",
   "metadata": {},
   "outputs": [],
   "source": [
    "d='i am learning data science'\n",
    "d"
   ]
  },
  {
   "cell_type": "code",
   "execution_count": null,
   "id": "5fb18a47",
   "metadata": {},
   "outputs": [],
   "source": [
    "type(d)"
   ]
  },
  {
   "cell_type": "code",
   "execution_count": null,
   "id": "e0a0b1c0",
   "metadata": {},
   "outputs": [],
   "source": [
    "f= \"i am learning data science\"\n",
    "f"
   ]
  },
  {
   "cell_type": "code",
   "execution_count": null,
   "id": "d67e4a06",
   "metadata": {},
   "outputs": [],
   "source": [
    "type(f)"
   ]
  },
  {
   "cell_type": "markdown",
   "id": "8a16c3b4",
   "metadata": {},
   "source": [
    "## Sting Indexing [ ] &  String Slicing\n",
    "- Normally index in python start with 0\n",
    "   - postive index (1)\n",
    "   -  negative index (-1)\n",
    "- Index can be used fro updating the string"
   ]
  },
  {
   "cell_type": "code",
   "execution_count": null,
   "id": "82281045",
   "metadata": {},
   "outputs": [],
   "source": [
    "s='PYTHON'"
   ]
  },
  {
   "cell_type": "code",
   "execution_count": null,
   "id": "a6f3a5ba",
   "metadata": {},
   "outputs": [],
   "source": [
    "#index\n",
    "s[1]"
   ]
  },
  {
   "cell_type": "code",
   "execution_count": null,
   "id": "01b1c06f",
   "metadata": {},
   "outputs": [],
   "source": [
    "#slicing\n",
    "s[0:3]"
   ]
  },
  {
   "cell_type": "code",
   "execution_count": null,
   "id": "fd4bb736",
   "metadata": {},
   "outputs": [],
   "source": [
    "# to find the length of str\n",
    "len(s)"
   ]
  },
  {
   "cell_type": "code",
   "execution_count": null,
   "id": "d1aeb54c",
   "metadata": {},
   "outputs": [],
   "source": [
    "# positive\n",
    "s[1]"
   ]
  },
  {
   "cell_type": "code",
   "execution_count": null,
   "id": "8c7205f5",
   "metadata": {},
   "outputs": [],
   "source": [
    "# neagtive\n",
    "s[-1]"
   ]
  },
  {
   "cell_type": "code",
   "execution_count": null,
   "id": "27c91ec6",
   "metadata": {},
   "outputs": [],
   "source": [
    "# postive slicing\n",
    "s[:3]"
   ]
  },
  {
   "cell_type": "code",
   "execution_count": null,
   "id": "003e9866",
   "metadata": {},
   "outputs": [],
   "source": [
    "# negatice slicing\n",
    "s[-3:]"
   ]
  },
  {
   "cell_type": "code",
   "execution_count": null,
   "id": "8f7b3a1a",
   "metadata": {},
   "outputs": [],
   "source": [
    "# to the end\n",
    "s[3:]"
   ]
  },
  {
   "cell_type": "code",
   "execution_count": null,
   "id": "0f3a93b5",
   "metadata": {},
   "outputs": [],
   "source": [
    "s.index('Y')"
   ]
  },
  {
   "cell_type": "markdown",
   "id": "92b5f27b",
   "metadata": {},
   "source": [
    "### Updating String"
   ]
  },
  {
   "cell_type": "code",
   "execution_count": null,
   "id": "9a06c4a6",
   "metadata": {},
   "outputs": [],
   "source": [
    "s=\"PYTHON\""
   ]
  },
  {
   "cell_type": "code",
   "execution_count": null,
   "id": "16a6c3b1",
   "metadata": {},
   "outputs": [],
   "source": [
    "s.replace('P','M')"
   ]
  },
  {
   "cell_type": "code",
   "execution_count": null,
   "id": "32796ab5",
   "metadata": {},
   "outputs": [],
   "source": [
    "s.replace('PYTHON','Mango')"
   ]
  },
  {
   "cell_type": "markdown",
   "id": "e1b0230d",
   "metadata": {},
   "source": [
    "### Concat Strings"
   ]
  },
  {
   "cell_type": "code",
   "execution_count": null,
   "id": "8d9dbd30",
   "metadata": {},
   "outputs": [],
   "source": [
    "a='apple'\n",
    "b='is a fruit'"
   ]
  },
  {
   "cell_type": "code",
   "execution_count": null,
   "id": "8c6f358c",
   "metadata": {},
   "outputs": [],
   "source": [
    "a+''+b  # have  to use white space"
   ]
  },
  {
   "cell_type": "markdown",
   "id": "ebef93eb",
   "metadata": {},
   "source": [
    "## Format string"
   ]
  },
  {
   "cell_type": "code",
   "execution_count": null,
   "id": "224c04ad",
   "metadata": {},
   "outputs": [],
   "source": [
    "name=input('Your name : ')\n",
    "age=input('Your Age :' )"
   ]
  },
  {
   "cell_type": "code",
   "execution_count": null,
   "id": "48a4a27b",
   "metadata": {},
   "outputs": [],
   "source": [
    "print(name)"
   ]
  },
  {
   "cell_type": "code",
   "execution_count": null,
   "id": "f5cc87ad",
   "metadata": {},
   "outputs": [],
   "source": [
    "txt= \"Hi \"+ age +\" happy to learn data science\" + age\n",
    "txt"
   ]
  },
  {
   "cell_type": "code",
   "execution_count": null,
   "id": "53f606f5",
   "metadata": {},
   "outputs": [],
   "source": [
    "name='sabari'\n",
    "age=25\n",
    "txt=\"Hi {},welcome to learn datascience at age of {}\"\n",
    "print(txt.format(name,age))"
   ]
  },
  {
   "cell_type": "code",
   "execution_count": null,
   "id": "ed79b1a2",
   "metadata": {},
   "outputs": [],
   "source": [
    "# with index\n",
    "name='sabari'\n",
    "age=25\n",
    "txt=\"Hi {1},welcome to learn datascience at age of {0}\"\n",
    "print(txt.format(name,age))"
   ]
  },
  {
   "cell_type": "code",
   "execution_count": null,
   "id": "7c5619b0",
   "metadata": {},
   "outputs": [],
   "source": [
    "# with index\n",
    "name='sabari'\n",
    "age=25\n",
    "txt=f\"Hi {name},welcome to learn datascience at age of {age}\"\n",
    "txt"
   ]
  },
  {
   "cell_type": "markdown",
   "id": "00191ab6",
   "metadata": {},
   "source": [
    "## Escape Characters"
   ]
  },
  {
   "cell_type": "code",
   "execution_count": null,
   "id": "9b47e1bc",
   "metadata": {},
   "outputs": [],
   "source": [
    "a='i am sabari\\n,i am learning data science'\n",
    "print(a)"
   ]
  },
  {
   "cell_type": "code",
   "execution_count": null,
   "id": "ca766c81",
   "metadata": {},
   "outputs": [],
   "source": [
    "a='i am sabari\\t,i am learning data science'\n",
    "print(a)"
   ]
  },
  {
   "cell_type": "code",
   "execution_count": null,
   "id": "022c56f6",
   "metadata": {},
   "outputs": [],
   "source": [
    "a='i am sabari\\b,i am learning data science'\n",
    "print(a)"
   ]
  },
  {
   "cell_type": "code",
   "execution_count": 1,
   "id": "1edc796a",
   "metadata": {},
   "outputs": [],
   "source": [
    "import datetime"
   ]
  },
  {
   "cell_type": "code",
   "execution_count": 2,
   "id": "9094b0ba",
   "metadata": {},
   "outputs": [],
   "source": [
    "date=datetime.date"
   ]
  },
  {
   "cell_type": "code",
   "execution_count": 4,
   "id": "a10e9b88",
   "metadata": {},
   "outputs": [
    {
     "name": "stdout",
     "output_type": "stream",
     "text": [
      "2023-07-22\n"
     ]
    }
   ],
   "source": [
    "a=date.today()\n",
    "print(a)"
   ]
  },
  {
   "cell_type": "code",
   "execution_count": 7,
   "id": "efd1f762",
   "metadata": {},
   "outputs": [
    {
     "data": {
      "text/plain": [
       "\"today's date\""
      ]
     },
     "execution_count": 7,
     "metadata": {},
     "output_type": "execute_result"
    }
   ],
   "source": [
    "a='today\\'s date'\n",
    "a"
   ]
  },
  {
   "cell_type": "markdown",
   "id": "5cef134b",
   "metadata": {},
   "source": [
    "### String with whitespace"
   ]
  },
  {
   "cell_type": "code",
   "execution_count": null,
   "id": "c462f692",
   "metadata": {},
   "outputs": [],
   "source": [
    "# white space are counted in index\n",
    "\n",
    "s= 'Python'\n",
    "print(\"length of 's' :\",len(s),'- without whitespace')\n",
    "\n",
    "a=' Python'      # has whitespace\n",
    "print('length of a :',len(a),'- With whitespace')"
   ]
  },
  {
   "cell_type": "code",
   "execution_count": null,
   "id": "3422a8b9",
   "metadata": {},
   "outputs": [],
   "source": [
    "f= 'i am learning data science'\n",
    "\n",
    "f[:4]"
   ]
  },
  {
   "cell_type": "markdown",
   "id": "49841bd3",
   "metadata": {},
   "source": [
    "### Type casting in string\n"
   ]
  },
  {
   "cell_type": "code",
   "execution_count": null,
   "id": "d01c1892",
   "metadata": {},
   "outputs": [],
   "source": [
    "a=str(1)\n",
    "a"
   ]
  },
  {
   "cell_type": "code",
   "execution_count": null,
   "id": "77cb6511",
   "metadata": {},
   "outputs": [],
   "source": [
    "type(a)"
   ]
  },
  {
   "cell_type": "code",
   "execution_count": null,
   "id": "6a094c37",
   "metadata": {},
   "outputs": [],
   "source": [
    "b=float('2.5a')\n",
    "b"
   ]
  },
  {
   "cell_type": "code",
   "execution_count": null,
   "id": "69dc299f",
   "metadata": {},
   "outputs": [],
   "source": [
    "type(b)"
   ]
  },
  {
   "cell_type": "markdown",
   "id": "acc63d3d",
   "metadata": {},
   "source": [
    "#### Characters of string"
   ]
  },
  {
   "cell_type": "code",
   "execution_count": null,
   "id": "a02b1816",
   "metadata": {},
   "outputs": [],
   "source": [
    "# don't break the line while using single and double quote\n",
    "d='i am learning\n",
    "data science'\n",
    "d"
   ]
  },
  {
   "cell_type": "code",
   "execution_count": null,
   "id": "dc6a7867",
   "metadata": {},
   "outputs": [],
   "source": [
    "g='today's NEWS'"
   ]
  },
  {
   "cell_type": "code",
   "execution_count": null,
   "id": "8258d029",
   "metadata": {},
   "outputs": [],
   "source": [
    "g=\"today's NEWS\""
   ]
  },
  {
   "cell_type": "code",
   "execution_count": null,
   "id": "22ea4aaf",
   "metadata": {},
   "outputs": [],
   "source": [
    "# You can break the line using triple quote\n",
    "# for documentation in funtion - Doc string\n",
    "\n",
    "c=\"\"\" I\n",
    "am\n",
    "learning\n",
    "data science\n",
    "\"\"\""
   ]
  },
  {
   "cell_type": "code",
   "execution_count": null,
   "id": "d59efc5e",
   "metadata": {},
   "outputs": [],
   "source": [
    "\n",
    "c='''\n",
    "I\n",
    "am\n",
    "learning\n",
    "data science\n",
    "\n",
    "'''"
   ]
  },
  {
   "cell_type": "code",
   "execution_count": null,
   "id": "89fc23c0",
   "metadata": {},
   "outputs": [],
   "source": [
    "print()"
   ]
  },
  {
   "cell_type": "markdown",
   "id": "61b8a888",
   "metadata": {},
   "source": [
    "# Operators\n",
    "- Arithmetic Operators\n",
    "- Assignment Operatos"
   ]
  },
  {
   "cell_type": "markdown",
   "id": "d84b1d3b",
   "metadata": {},
   "source": [
    "## Arithmetic Operators"
   ]
  },
  {
   "cell_type": "code",
   "execution_count": 1,
   "id": "4e7cf8dc",
   "metadata": {},
   "outputs": [
    {
     "data": {
      "text/plain": [
       "3"
      ]
     },
     "execution_count": 1,
     "metadata": {},
     "output_type": "execute_result"
    }
   ],
   "source": [
    "1+2"
   ]
  },
  {
   "cell_type": "code",
   "execution_count": 2,
   "id": "87af44e2",
   "metadata": {},
   "outputs": [
    {
     "data": {
      "text/plain": [
       "-1"
      ]
     },
     "execution_count": 2,
     "metadata": {},
     "output_type": "execute_result"
    }
   ],
   "source": [
    "1-2"
   ]
  },
  {
   "cell_type": "code",
   "execution_count": 3,
   "id": "dc5b533f",
   "metadata": {},
   "outputs": [
    {
     "data": {
      "text/plain": [
       "9"
      ]
     },
     "execution_count": 3,
     "metadata": {},
     "output_type": "execute_result"
    }
   ],
   "source": [
    "3*3"
   ]
  },
  {
   "cell_type": "code",
   "execution_count": 4,
   "id": "a0d4c7da",
   "metadata": {},
   "outputs": [
    {
     "data": {
      "text/plain": [
       "1.5"
      ]
     },
     "execution_count": 4,
     "metadata": {},
     "output_type": "execute_result"
    }
   ],
   "source": [
    "9/6"
   ]
  },
  {
   "cell_type": "code",
   "execution_count": 6,
   "id": "85ce6869",
   "metadata": {},
   "outputs": [
    {
     "data": {
      "text/plain": [
       "3"
      ]
     },
     "execution_count": 6,
     "metadata": {},
     "output_type": "execute_result"
    }
   ],
   "source": [
    "# modulus (remainder)\n",
    "9%6"
   ]
  },
  {
   "cell_type": "code",
   "execution_count": 7,
   "id": "1d15660f",
   "metadata": {},
   "outputs": [
    {
     "data": {
      "text/plain": [
       "1"
      ]
     },
     "execution_count": 7,
     "metadata": {},
     "output_type": "execute_result"
    }
   ],
   "source": [
    "9//6"
   ]
  },
  {
   "cell_type": "code",
   "execution_count": 11,
   "id": "a1fdee18",
   "metadata": {},
   "outputs": [
    {
     "data": {
      "text/plain": [
       "81"
      ]
     },
     "execution_count": 11,
     "metadata": {},
     "output_type": "execute_result"
    }
   ],
   "source": [
    "#Exponentiation (power)\n",
    "3**4"
   ]
  },
  {
   "cell_type": "markdown",
   "id": "617c734e",
   "metadata": {},
   "source": [
    "## Assignment Operators\n",
    "### Example for boolean\n"
   ]
  },
  {
   "cell_type": "code",
   "execution_count": 32,
   "id": "8b88f34f",
   "metadata": {},
   "outputs": [],
   "source": [
    "a=1\n",
    "b=1"
   ]
  },
  {
   "cell_type": "code",
   "execution_count": 18,
   "id": "0eb4d4fe",
   "metadata": {},
   "outputs": [
    {
     "data": {
      "text/plain": [
       "False"
      ]
     },
     "execution_count": 18,
     "metadata": {},
     "output_type": "execute_result"
    }
   ],
   "source": [
    "#equal\n",
    "a==b"
   ]
  },
  {
   "cell_type": "code",
   "execution_count": 19,
   "id": "f63ae86c",
   "metadata": {},
   "outputs": [
    {
     "data": {
      "text/plain": [
       "True"
      ]
     },
     "execution_count": 19,
     "metadata": {},
     "output_type": "execute_result"
    }
   ],
   "source": [
    "#not equal\n",
    "a!=b"
   ]
  },
  {
   "cell_type": "code",
   "execution_count": 23,
   "id": "e7918cc4",
   "metadata": {},
   "outputs": [
    {
     "data": {
      "text/plain": [
       "False"
      ]
     },
     "execution_count": 23,
     "metadata": {},
     "output_type": "execute_result"
    }
   ],
   "source": [
    "a<b"
   ]
  },
  {
   "cell_type": "code",
   "execution_count": 24,
   "id": "ad793c4e",
   "metadata": {},
   "outputs": [
    {
     "data": {
      "text/plain": [
       "False"
      ]
     },
     "execution_count": 24,
     "metadata": {},
     "output_type": "execute_result"
    }
   ],
   "source": [
    "a>b"
   ]
  },
  {
   "cell_type": "code",
   "execution_count": 25,
   "id": "3479e45e",
   "metadata": {},
   "outputs": [
    {
     "data": {
      "text/plain": [
       "True"
      ]
     },
     "execution_count": 25,
     "metadata": {},
     "output_type": "execute_result"
    }
   ],
   "source": [
    "a<=b"
   ]
  },
  {
   "cell_type": "code",
   "execution_count": 26,
   "id": "61da4b7a",
   "metadata": {},
   "outputs": [
    {
     "data": {
      "text/plain": [
       "True"
      ]
     },
     "execution_count": 26,
     "metadata": {},
     "output_type": "execute_result"
    }
   ],
   "source": [
    "a>=b"
   ]
  },
  {
   "cell_type": "code",
   "execution_count": null,
   "id": "a94e5fab",
   "metadata": {},
   "outputs": [],
   "source": []
  },
  {
   "cell_type": "markdown",
   "id": "f5b1e870",
   "metadata": {},
   "source": [
    "# Compound Data types\n",
    "- list [ ]\n",
    "- tuple( )\n",
    "- set  { }\n",
    "- dict { }\n",
    "\n",
    "There are four collection data types in the Python programming language:\n",
    "- List is a collection which is ordered and changeable. Allows duplicate members.\n",
    "- Tuple is a collection which is ordered and unchangeable. Allows duplicate members.\n",
    "- Set is a collection which is unordered, unchangeable*, and unindexed. No duplicate members.\n",
    "- Dictionary is a collection which is ordered** and changeable. No duplicate members. "
   ]
  },
  {
   "cell_type": "code",
   "execution_count": 56,
   "id": "a9c072f8",
   "metadata": {},
   "outputs": [
    {
     "data": {
      "text/plain": [
       "list"
      ]
     },
     "execution_count": 56,
     "metadata": {},
     "output_type": "execute_result"
    }
   ],
   "source": [
    "a=[1,'sabari',3,4,4]\n",
    "type(a)"
   ]
  },
  {
   "cell_type": "code",
   "execution_count": 57,
   "id": "77b81877",
   "metadata": {},
   "outputs": [
    {
     "name": "stdout",
     "output_type": "stream",
     "text": [
      "[1, 'sabari', 3, 4, 4]\n"
     ]
    }
   ],
   "source": [
    "print(a)"
   ]
  },
  {
   "cell_type": "code",
   "execution_count": 58,
   "id": "dcaeb683",
   "metadata": {},
   "outputs": [
    {
     "data": {
      "text/plain": [
       "tuple"
      ]
     },
     "execution_count": 58,
     "metadata": {},
     "output_type": "execute_result"
    }
   ],
   "source": [
    "b=(1,'sabari',3,4)\n",
    "type(b)"
   ]
  },
  {
   "cell_type": "code",
   "execution_count": 59,
   "id": "e28d10fb",
   "metadata": {},
   "outputs": [
    {
     "name": "stdout",
     "output_type": "stream",
     "text": [
      "(1, 'sabari', 3, 4)\n"
     ]
    }
   ],
   "source": [
    "print(b)"
   ]
  },
  {
   "cell_type": "markdown",
   "id": "3c8d324a",
   "metadata": {},
   "source": [
    "## List\n",
    "- ordered\n",
    "- mutable (changeble)\n",
    "- allow duplicates"
   ]
  },
  {
   "cell_type": "code",
   "execution_count": 183,
   "id": "9853b2fb",
   "metadata": {},
   "outputs": [
    {
     "data": {
      "text/plain": [
       "list"
      ]
     },
     "execution_count": 183,
     "metadata": {},
     "output_type": "execute_result"
    }
   ],
   "source": [
    "c=[]\n",
    "type(c)"
   ]
  },
  {
   "cell_type": "code",
   "execution_count": 184,
   "id": "d21fa9a9",
   "metadata": {},
   "outputs": [
    {
     "data": {
      "text/plain": [
       "list"
      ]
     },
     "execution_count": 184,
     "metadata": {},
     "output_type": "execute_result"
    }
   ],
   "source": [
    "a=['sabari','hari',23,23] # allow duplicates\n",
    "type(a)"
   ]
  },
  {
   "cell_type": "code",
   "execution_count": 185,
   "id": "9de25a75",
   "metadata": {},
   "outputs": [
    {
     "data": {
      "text/plain": [
       "4"
      ]
     },
     "execution_count": 185,
     "metadata": {},
     "output_type": "execute_result"
    }
   ],
   "source": [
    "len(a)"
   ]
  },
  {
   "cell_type": "code",
   "execution_count": 102,
   "id": "f05512f8",
   "metadata": {},
   "outputs": [
    {
     "name": "stdout",
     "output_type": "stream",
     "text": [
      "['sabari', 'hari', 23, 23]\n"
     ]
    }
   ],
   "source": [
    "print(a)    # ordered "
   ]
  },
  {
   "cell_type": "code",
   "execution_count": 103,
   "id": "e66e6912",
   "metadata": {},
   "outputs": [
    {
     "data": {
      "text/plain": [
       "'sabari'"
      ]
     },
     "execution_count": 103,
     "metadata": {},
     "output_type": "execute_result"
    }
   ],
   "source": [
    "a[0]   #indexing like string"
   ]
  },
  {
   "cell_type": "code",
   "execution_count": 104,
   "id": "d283726d",
   "metadata": {},
   "outputs": [
    {
     "data": {
      "text/plain": [
       "23"
      ]
     },
     "execution_count": 104,
     "metadata": {},
     "output_type": "execute_result"
    }
   ],
   "source": [
    "a[-1]"
   ]
  },
  {
   "cell_type": "code",
   "execution_count": 105,
   "id": "0e5c4b32",
   "metadata": {},
   "outputs": [],
   "source": [
    "a[0]='nadha'   # changable"
   ]
  },
  {
   "cell_type": "code",
   "execution_count": 106,
   "id": "87a45890",
   "metadata": {},
   "outputs": [
    {
     "data": {
      "text/plain": [
       "['nadha', 'hari', 23, 23]"
      ]
     },
     "execution_count": 106,
     "metadata": {},
     "output_type": "execute_result"
    }
   ],
   "source": [
    "a"
   ]
  },
  {
   "cell_type": "code",
   "execution_count": 107,
   "id": "363d36c2",
   "metadata": {},
   "outputs": [
    {
     "data": {
      "text/plain": [
       "2"
      ]
     },
     "execution_count": 107,
     "metadata": {},
     "output_type": "execute_result"
    }
   ],
   "source": [
    "a.count(23)  # count the number of iteams or value"
   ]
  },
  {
   "cell_type": "code",
   "execution_count": 111,
   "id": "4e70366b",
   "metadata": {},
   "outputs": [
    {
     "data": {
      "text/plain": [
       "2"
      ]
     },
     "execution_count": 111,
     "metadata": {},
     "output_type": "execute_result"
    }
   ],
   "source": [
    "a.index(23)    "
   ]
  },
  {
   "cell_type": "code",
   "execution_count": 114,
   "id": "976402d4",
   "metadata": {},
   "outputs": [
    {
     "data": {
      "text/plain": [
       "[23, 23, 'hari', 'nadha']"
      ]
     },
     "execution_count": 114,
     "metadata": {},
     "output_type": "execute_result"
    }
   ],
   "source": [
    "a.reverse()       \n",
    "a"
   ]
  },
  {
   "cell_type": "code",
   "execution_count": 187,
   "id": "fda2d46f",
   "metadata": {},
   "outputs": [],
   "source": [
    "b=[9,7,7,6,9]"
   ]
  },
  {
   "cell_type": "code",
   "execution_count": 188,
   "id": "2e110b64",
   "metadata": {},
   "outputs": [
    {
     "data": {
      "text/plain": [
       "['sabari', 'hari', 23, 23, 9, 7, 7, 6, 9]"
      ]
     },
     "execution_count": 188,
     "metadata": {},
     "output_type": "execute_result"
    }
   ],
   "source": [
    "a+b         # join two list"
   ]
  },
  {
   "cell_type": "code",
   "execution_count": 167,
   "id": "375aaec0",
   "metadata": {},
   "outputs": [
    {
     "data": {
      "text/plain": [
       "[9, 9, 7, 7, 6]"
      ]
     },
     "execution_count": 167,
     "metadata": {},
     "output_type": "execute_result"
    }
   ],
   "source": [
    "b.sort(reverse=True)\n",
    "b"
   ]
  },
  {
   "cell_type": "code",
   "execution_count": 168,
   "id": "05d10e9f",
   "metadata": {},
   "outputs": [
    {
     "data": {
      "text/plain": [
       "7"
      ]
     },
     "execution_count": 168,
     "metadata": {},
     "output_type": "execute_result"
    }
   ],
   "source": [
    "b.pop(3)   # take that out of the list with index value"
   ]
  },
  {
   "cell_type": "code",
   "execution_count": 169,
   "id": "2b5ce3cc",
   "metadata": {},
   "outputs": [
    {
     "data": {
      "text/plain": [
       "[9, 9, 7, 6]"
      ]
     },
     "execution_count": 169,
     "metadata": {},
     "output_type": "execute_result"
    }
   ],
   "source": [
    "b"
   ]
  },
  {
   "cell_type": "code",
   "execution_count": 170,
   "id": "5a53bb76",
   "metadata": {},
   "outputs": [
    {
     "data": {
      "text/plain": [
       "[9, 7, 6]"
      ]
     },
     "execution_count": 170,
     "metadata": {},
     "output_type": "execute_result"
    }
   ],
   "source": [
    "b.remove(9)    # remove iteam with value \n",
    "b"
   ]
  },
  {
   "cell_type": "code",
   "execution_count": 171,
   "id": "7d3479b9",
   "metadata": {},
   "outputs": [],
   "source": [
    "b.append(2)        # add the iteam at end"
   ]
  },
  {
   "cell_type": "code",
   "execution_count": 172,
   "id": "bc29a9e2",
   "metadata": {},
   "outputs": [
    {
     "data": {
      "text/plain": [
       "[9, 7, 6, 2]"
      ]
     },
     "execution_count": 172,
     "metadata": {},
     "output_type": "execute_result"
    }
   ],
   "source": [
    "b"
   ]
  },
  {
   "cell_type": "code",
   "execution_count": 173,
   "id": "1e89e49d",
   "metadata": {},
   "outputs": [],
   "source": [
    "b.insert(1,'sabari')  # adding values with speific index "
   ]
  },
  {
   "cell_type": "code",
   "execution_count": 174,
   "id": "8708f287",
   "metadata": {},
   "outputs": [
    {
     "data": {
      "text/plain": [
       "[9, 'sabari', 7, 6, 2]"
      ]
     },
     "execution_count": 174,
     "metadata": {},
     "output_type": "execute_result"
    }
   ],
   "source": [
    "b"
   ]
  },
  {
   "cell_type": "code",
   "execution_count": 176,
   "id": "af39b5b9",
   "metadata": {},
   "outputs": [],
   "source": [
    "b.extend([1,2,3,])      # add mutiple value data time"
   ]
  },
  {
   "cell_type": "code",
   "execution_count": 177,
   "id": "bbc41437",
   "metadata": {},
   "outputs": [
    {
     "data": {
      "text/plain": [
       "[9, 'sabari', 7, 6, 2, 1, 2, 3]"
      ]
     },
     "execution_count": 177,
     "metadata": {},
     "output_type": "execute_result"
    }
   ],
   "source": [
    "b"
   ]
  },
  {
   "cell_type": "code",
   "execution_count": 180,
   "id": "02c25aac",
   "metadata": {},
   "outputs": [
    {
     "data": {
      "text/plain": [
       "[3, 2, 1, 2, 6, 7, 'sabari', 9]"
      ]
     },
     "execution_count": 180,
     "metadata": {},
     "output_type": "execute_result"
    }
   ],
   "source": [
    "b.reverse()            \n",
    "b"
   ]
  },
  {
   "cell_type": "code",
   "execution_count": 181,
   "id": "c087a740",
   "metadata": {},
   "outputs": [],
   "source": [
    "b.clear()        "
   ]
  },
  {
   "cell_type": "code",
   "execution_count": 182,
   "id": "06003019",
   "metadata": {},
   "outputs": [
    {
     "data": {
      "text/plain": [
       "[]"
      ]
     },
     "execution_count": 182,
     "metadata": {},
     "output_type": "execute_result"
    }
   ],
   "source": [
    "b"
   ]
  },
  {
   "cell_type": "code",
   "execution_count": null,
   "id": "69b362d2",
   "metadata": {},
   "outputs": [],
   "source": []
  },
  {
   "cell_type": "markdown",
   "id": "b4f65681",
   "metadata": {},
   "source": [
    "## Tuple\n",
    "- ordered\n",
    "- immuntable (not changeable)\n",
    "- allow duplicates"
   ]
  },
  {
   "cell_type": "code",
   "execution_count": 87,
   "id": "8d47f0bf",
   "metadata": {},
   "outputs": [
    {
     "data": {
      "text/plain": [
       "tuple"
      ]
     },
     "execution_count": 87,
     "metadata": {},
     "output_type": "execute_result"
    }
   ],
   "source": [
    "b=(1,2,2,'sabari')         # allow duplicates\n",
    "type(b)"
   ]
  },
  {
   "cell_type": "code",
   "execution_count": 88,
   "id": "bd009033",
   "metadata": {},
   "outputs": [
    {
     "data": {
      "text/plain": [
       "(1, 2, 2, 'sabari')"
      ]
     },
     "execution_count": 88,
     "metadata": {},
     "output_type": "execute_result"
    }
   ],
   "source": [
    "b                         # ordered"
   ]
  },
  {
   "cell_type": "code",
   "execution_count": 89,
   "id": "1b779e9e",
   "metadata": {},
   "outputs": [
    {
     "ename": "TypeError",
     "evalue": "'tuple' object does not support item assignment",
     "output_type": "error",
     "traceback": [
      "\u001b[1;31m---------------------------------------------------------------------------\u001b[0m",
      "\u001b[1;31mTypeError\u001b[0m                                 Traceback (most recent call last)",
      "Cell \u001b[1;32mIn [89], line 1\u001b[0m\n\u001b[1;32m----> 1\u001b[0m b[\u001b[38;5;241m0\u001b[39m]\u001b[38;5;241m=\u001b[39m\u001b[38;5;241m2\u001b[39m\n",
      "\u001b[1;31mTypeError\u001b[0m: 'tuple' object does not support item assignment"
     ]
    }
   ],
   "source": [
    "b[0]=2"
   ]
  },
  {
   "cell_type": "code",
   "execution_count": 90,
   "id": "0c64de8a",
   "metadata": {},
   "outputs": [
    {
     "data": {
      "text/plain": [
       "1"
      ]
     },
     "execution_count": 90,
     "metadata": {},
     "output_type": "execute_result"
    }
   ],
   "source": [
    "b.count(1)"
   ]
  },
  {
   "cell_type": "code",
   "execution_count": 91,
   "id": "b7ccf9e5",
   "metadata": {},
   "outputs": [
    {
     "data": {
      "text/plain": [
       "3"
      ]
     },
     "execution_count": 91,
     "metadata": {},
     "output_type": "execute_result"
    }
   ],
   "source": [
    "b.index('sabari')"
   ]
  },
  {
   "cell_type": "markdown",
   "id": "adb529c0",
   "metadata": {},
   "source": [
    "## Set\n",
    "- unordered,\n",
    "- unchangeable*, and unindexed.\n",
    "- No duplicate members."
   ]
  },
  {
   "cell_type": "code",
   "execution_count": 212,
   "id": "9659081f",
   "metadata": {},
   "outputs": [],
   "source": [
    "a={1,2,2,3,4,5,'sabari'}"
   ]
  },
  {
   "cell_type": "code",
   "execution_count": 213,
   "id": "d2b85519",
   "metadata": {},
   "outputs": [
    {
     "data": {
      "text/plain": [
       "set"
      ]
     },
     "execution_count": 213,
     "metadata": {},
     "output_type": "execute_result"
    }
   ],
   "source": [
    "type(a)"
   ]
  },
  {
   "cell_type": "code",
   "execution_count": 214,
   "id": "a306ca66",
   "metadata": {},
   "outputs": [
    {
     "data": {
      "text/plain": [
       "{1, 2, 3, 4, 5, 'sabari'}"
      ]
     },
     "execution_count": 214,
     "metadata": {},
     "output_type": "execute_result"
    }
   ],
   "source": [
    "a        # no duplicates"
   ]
  },
  {
   "cell_type": "markdown",
   "id": "7901818f",
   "metadata": {},
   "source": [
    "## Dict\n",
    "- ordered\n",
    "- changeable\n",
    "- No duplicate members. "
   ]
  },
  {
   "cell_type": "code",
   "execution_count": 220,
   "id": "eb30e22a",
   "metadata": {},
   "outputs": [],
   "source": [
    "s={'name':'sabari',          # key : value\n",
    "   'age': 25}     "
   ]
  },
  {
   "cell_type": "code",
   "execution_count": 199,
   "id": "efe947a2",
   "metadata": {},
   "outputs": [
    {
     "data": {
      "text/plain": [
       "dict"
      ]
     },
     "execution_count": 199,
     "metadata": {},
     "output_type": "execute_result"
    }
   ],
   "source": [
    "type(s)"
   ]
  },
  {
   "cell_type": "code",
   "execution_count": 221,
   "id": "768e4f69",
   "metadata": {},
   "outputs": [
    {
     "data": {
      "text/plain": [
       "dict_keys(['name', 'age'])"
      ]
     },
     "execution_count": 221,
     "metadata": {},
     "output_type": "execute_result"
    }
   ],
   "source": [
    "s.keys()"
   ]
  },
  {
   "cell_type": "code",
   "execution_count": 222,
   "id": "44de1fca",
   "metadata": {},
   "outputs": [
    {
     "data": {
      "text/plain": [
       "dict_values(['sabari', 25])"
      ]
     },
     "execution_count": 222,
     "metadata": {},
     "output_type": "execute_result"
    }
   ],
   "source": [
    "s.values()"
   ]
  },
  {
   "cell_type": "code",
   "execution_count": 224,
   "id": "a12799c4",
   "metadata": {},
   "outputs": [
    {
     "data": {
      "text/plain": [
       "'sabari'"
      ]
     },
     "execution_count": 224,
     "metadata": {},
     "output_type": "execute_result"
    }
   ],
   "source": [
    "s['name']"
   ]
  },
  {
   "cell_type": "code",
   "execution_count": 225,
   "id": "e1906431",
   "metadata": {},
   "outputs": [
    {
     "data": {
      "text/plain": [
       "dict_items([('name', 'sabari'), ('age', 25)])"
      ]
     },
     "execution_count": 225,
     "metadata": {},
     "output_type": "execute_result"
    }
   ],
   "source": [
    "s.items()"
   ]
  },
  {
   "cell_type": "code",
   "execution_count": 230,
   "id": "819c630e",
   "metadata": {},
   "outputs": [],
   "source": [
    "s['name']='Hari'      "
   ]
  },
  {
   "cell_type": "code",
   "execution_count": 231,
   "id": "29843a47",
   "metadata": {},
   "outputs": [
    {
     "data": {
      "text/plain": [
       "{'name': 'Hari', 'age': 25}"
      ]
     },
     "execution_count": 231,
     "metadata": {},
     "output_type": "execute_result"
    }
   ],
   "source": [
    "s"
   ]
  },
  {
   "cell_type": "code",
   "execution_count": null,
   "id": "b2cf7406",
   "metadata": {},
   "outputs": [],
   "source": [
    "s."
   ]
  },
  {
   "cell_type": "code",
   "execution_count": null,
   "id": "29c82068",
   "metadata": {},
   "outputs": [],
   "source": []
  },
  {
   "cell_type": "code",
   "execution_count": null,
   "id": "dab296c1",
   "metadata": {},
   "outputs": [],
   "source": []
  }
 ],
 "metadata": {
  "kernelspec": {
   "display_name": "Python 3 (ipykernel)",
   "language": "python",
   "name": "python3"
  },
  "language_info": {
   "codemirror_mode": {
    "name": "ipython",
    "version": 3
   },
   "file_extension": ".py",
   "mimetype": "text/x-python",
   "name": "python",
   "nbconvert_exporter": "python",
   "pygments_lexer": "ipython3",
   "version": "3.10.7"
  }
 },
 "nbformat": 4,
 "nbformat_minor": 5
}
