{
 "cells": [
  {
   "cell_type": "markdown",
   "id": "ac1080cd",
   "metadata": {},
   "source": [
    "# Python Basics"
   ]
  },
  {
   "cell_type": "markdown",
   "id": "3b87432a",
   "metadata": {},
   "source": [
    "## Variables\n",
    "\n",
    "- Caps sensitive\n",
    "- not start with number but it can end with number\n",
    "- space is not allowed\n",
    "    - u can use My_Integer,MyInteger,_My_Integer,MyInteger1,\n"
   ]
  },
  {
   "cell_type": "code",
   "execution_count": 1,
   "id": "4000abf0",
   "metadata": {},
   "outputs": [
    {
     "name": "stdout",
     "output_type": "stream",
     "text": [
      "1\n",
      "3\n"
     ]
    }
   ],
   "source": [
    "#Caps sensistive\n",
    "a=1\n",
    "A=3\n",
    "print(a)\n",
    "print(A)"
   ]
  },
  {
   "cell_type": "code",
   "execution_count": 2,
   "id": "3e6eb5e4",
   "metadata": {},
   "outputs": [
    {
     "name": "stdout",
     "output_type": "stream",
     "text": [
      "1\n"
     ]
    }
   ],
   "source": [
    "print(a)"
   ]
  },
  {
   "cell_type": "code",
   "execution_count": 3,
   "id": "74a47be5",
   "metadata": {},
   "outputs": [],
   "source": [
    "#Variable update\n",
    "a=4"
   ]
  },
  {
   "cell_type": "code",
   "execution_count": 4,
   "id": "f88b688a",
   "metadata": {},
   "outputs": [
    {
     "name": "stdout",
     "output_type": "stream",
     "text": [
      "4\n"
     ]
    }
   ],
   "source": [
    "print(a)"
   ]
  },
  {
   "cell_type": "code",
   "execution_count": 5,
   "id": "8dfea0a2",
   "metadata": {},
   "outputs": [
    {
     "ename": "NameError",
     "evalue": "name 'myIntegerIs' is not defined",
     "output_type": "error",
     "traceback": [
      "\u001b[1;31m---------------------------------------------------------------------------\u001b[0m",
      "\u001b[1;31mNameError\u001b[0m                                 Traceback (most recent call last)",
      "Cell \u001b[1;32mIn [5], line 2\u001b[0m\n\u001b[0;32m      1\u001b[0m MyIntegerIs\u001b[38;5;241m=\u001b[39m\u001b[38;5;241m1\u001b[39m\n\u001b[1;32m----> 2\u001b[0m myIntegerIs\n",
      "\u001b[1;31mNameError\u001b[0m: name 'myIntegerIs' is not defined"
     ]
    }
   ],
   "source": [
    "MyIntegerIs=1\n",
    "myIntegerIs"
   ]
  },
  {
   "cell_type": "code",
   "execution_count": 6,
   "id": "5793e6bb",
   "metadata": {},
   "outputs": [],
   "source": [
    "#string('',\"\")\n",
    "a,b,c='apple','ball','cat'"
   ]
  },
  {
   "cell_type": "code",
   "execution_count": 7,
   "id": "6b6649b9",
   "metadata": {},
   "outputs": [
    {
     "name": "stdout",
     "output_type": "stream",
     "text": [
      "apple ball cat\n"
     ]
    }
   ],
   "source": [
    "print(a,b,c)"
   ]
  },
  {
   "cell_type": "markdown",
   "id": "b418d84b",
   "metadata": {},
   "source": [
    "## Data Types\n",
    "\n",
    "Built in Basics Types\n",
    "- Numbers\n",
    "   - Integer (int), ex:1\n",
    "   - float(float), ex:1.5\n",
    "   - Complex number (complex) ex: 1+2J\n",
    "   \n",
    "- Text (' ', \" \")\n",
    "  - string (str)\n",
    "  \n",
    "- Boolean Types\n",
    "   - (bool)\n",
    "   The values are \n",
    "   - True\n",
    "   - False\n",
    "- List []\n",
    "- Tuple ()\n",
    "- Set {}\n",
    "- Dictionary {}  \n",
    "- None Type\n",
    "   - None"
   ]
  },
  {
   "cell_type": "code",
   "execution_count": 8,
   "id": "e70984c3",
   "metadata": {},
   "outputs": [
    {
     "name": "stdout",
     "output_type": "stream",
     "text": [
      "<class 'str'>\n",
      "<class 'int'>\n",
      "<class 'bool'>\n",
      "<class 'NoneType'>\n"
     ]
    }
   ],
   "source": [
    "print(type(a))\n",
    "print(type(A))\n",
    "print(type(False))\n",
    "print(type(None))"
   ]
  },
  {
   "cell_type": "markdown",
   "id": "1986eda0",
   "metadata": {},
   "source": [
    "## Number\n",
    "   - Integer (int), ex:1\n",
    "   - float(float), ex:1.5\n",
    "   - Complex number (complex) ex: 1+2J"
   ]
  },
  {
   "cell_type": "code",
   "execution_count": 9,
   "id": "3ed565f6",
   "metadata": {},
   "outputs": [
    {
     "data": {
      "text/plain": [
       "int"
      ]
     },
     "execution_count": 9,
     "metadata": {},
     "output_type": "execute_result"
    }
   ],
   "source": [
    "a=1\n",
    "type(a)"
   ]
  },
  {
   "cell_type": "code",
   "execution_count": 10,
   "id": "8f224b86",
   "metadata": {},
   "outputs": [
    {
     "data": {
      "text/plain": [
       "float"
      ]
     },
     "execution_count": 10,
     "metadata": {},
     "output_type": "execute_result"
    }
   ],
   "source": [
    "b=1.5\n",
    "type(b)"
   ]
  },
  {
   "cell_type": "code",
   "execution_count": 11,
   "id": "ae2ffa03",
   "metadata": {},
   "outputs": [
    {
     "data": {
      "text/plain": [
       "complex"
      ]
     },
     "execution_count": 11,
     "metadata": {},
     "output_type": "execute_result"
    }
   ],
   "source": [
    "c= 1+2J\n",
    "type(c)"
   ]
  },
  {
   "cell_type": "markdown",
   "id": "6ffb3b76",
   "metadata": {},
   "source": [
    "### Type Casting "
   ]
  },
  {
   "cell_type": "code",
   "execution_count": 12,
   "id": "8865f1c9",
   "metadata": {},
   "outputs": [
    {
     "name": "stdout",
     "output_type": "stream",
     "text": [
      "3.0\n"
     ]
    },
    {
     "data": {
      "text/plain": [
       "float"
      ]
     },
     "execution_count": 12,
     "metadata": {},
     "output_type": "execute_result"
    }
   ],
   "source": [
    "a=3\n",
    "a=float(a)\n",
    "print(a)\n",
    "type(a)"
   ]
  },
  {
   "cell_type": "code",
   "execution_count": 13,
   "id": "b7ad6605",
   "metadata": {},
   "outputs": [
    {
     "name": "stdout",
     "output_type": "stream",
     "text": [
      "2\n"
     ]
    },
    {
     "data": {
      "text/plain": [
       "int"
      ]
     },
     "execution_count": 13,
     "metadata": {},
     "output_type": "execute_result"
    }
   ],
   "source": [
    "b=2.6                # it will not round the value while casting\n",
    "b=int(b)\n",
    "print(b)\n",
    "type(b)"
   ]
  },
  {
   "cell_type": "markdown",
   "id": "561f71f4",
   "metadata": {},
   "source": [
    "## String  \n",
    "- Text (' ', \" \")\n",
    "  - It should end and start with same \n",
    "  - string (str)"
   ]
  },
  {
   "cell_type": "code",
   "execution_count": 14,
   "id": "01c2a182",
   "metadata": {},
   "outputs": [
    {
     "data": {
      "text/plain": [
       "'i am learning data science'"
      ]
     },
     "execution_count": 14,
     "metadata": {},
     "output_type": "execute_result"
    }
   ],
   "source": [
    "d='i am learning data science'\n",
    "d"
   ]
  },
  {
   "cell_type": "code",
   "execution_count": 15,
   "id": "5fb18a47",
   "metadata": {},
   "outputs": [
    {
     "data": {
      "text/plain": [
       "str"
      ]
     },
     "execution_count": 15,
     "metadata": {},
     "output_type": "execute_result"
    }
   ],
   "source": [
    "type(d)"
   ]
  },
  {
   "cell_type": "code",
   "execution_count": 16,
   "id": "e0a0b1c0",
   "metadata": {},
   "outputs": [
    {
     "data": {
      "text/plain": [
       "'i am learning data science'"
      ]
     },
     "execution_count": 16,
     "metadata": {},
     "output_type": "execute_result"
    }
   ],
   "source": [
    "f= \"i am learning data science\"\n",
    "f"
   ]
  },
  {
   "cell_type": "code",
   "execution_count": 17,
   "id": "d67e4a06",
   "metadata": {},
   "outputs": [
    {
     "data": {
      "text/plain": [
       "str"
      ]
     },
     "execution_count": 17,
     "metadata": {},
     "output_type": "execute_result"
    }
   ],
   "source": [
    "type(f)"
   ]
  },
  {
   "cell_type": "markdown",
   "id": "8a16c3b4",
   "metadata": {},
   "source": [
    "## Sting Indexing [ ] &  String Slicing\n",
    "- Normally index in python start with 0\n",
    "   - postive index (1)\n",
    "   -  negative index (-1)\n",
    "- Index can be used fro updating the string"
   ]
  },
  {
   "cell_type": "code",
   "execution_count": 18,
   "id": "82281045",
   "metadata": {},
   "outputs": [],
   "source": [
    "s='PYTHON'"
   ]
  },
  {
   "cell_type": "code",
   "execution_count": 19,
   "id": "a6f3a5ba",
   "metadata": {},
   "outputs": [
    {
     "data": {
      "text/plain": [
       "'Y'"
      ]
     },
     "execution_count": 19,
     "metadata": {},
     "output_type": "execute_result"
    }
   ],
   "source": [
    "#index\n",
    "s[1]"
   ]
  },
  {
   "cell_type": "code",
   "execution_count": 20,
   "id": "01b1c06f",
   "metadata": {},
   "outputs": [
    {
     "data": {
      "text/plain": [
       "'PYT'"
      ]
     },
     "execution_count": 20,
     "metadata": {},
     "output_type": "execute_result"
    }
   ],
   "source": [
    "#slicing\n",
    "s[0:3]"
   ]
  },
  {
   "cell_type": "code",
   "execution_count": 21,
   "id": "fd4bb736",
   "metadata": {},
   "outputs": [
    {
     "data": {
      "text/plain": [
       "6"
      ]
     },
     "execution_count": 21,
     "metadata": {},
     "output_type": "execute_result"
    }
   ],
   "source": [
    "# to find the length of str\n",
    "len(s)"
   ]
  },
  {
   "cell_type": "code",
   "execution_count": 22,
   "id": "d1aeb54c",
   "metadata": {},
   "outputs": [
    {
     "data": {
      "text/plain": [
       "'Y'"
      ]
     },
     "execution_count": 22,
     "metadata": {},
     "output_type": "execute_result"
    }
   ],
   "source": [
    "# positive\n",
    "s[1]"
   ]
  },
  {
   "cell_type": "code",
   "execution_count": 23,
   "id": "8c7205f5",
   "metadata": {},
   "outputs": [
    {
     "data": {
      "text/plain": [
       "'N'"
      ]
     },
     "execution_count": 23,
     "metadata": {},
     "output_type": "execute_result"
    }
   ],
   "source": [
    "# neagtive\n",
    "s[-1]"
   ]
  },
  {
   "cell_type": "code",
   "execution_count": 24,
   "id": "27c91ec6",
   "metadata": {},
   "outputs": [
    {
     "data": {
      "text/plain": [
       "'PYT'"
      ]
     },
     "execution_count": 24,
     "metadata": {},
     "output_type": "execute_result"
    }
   ],
   "source": [
    "# postive slicing\n",
    "s[:3]"
   ]
  },
  {
   "cell_type": "code",
   "execution_count": 25,
   "id": "003e9866",
   "metadata": {},
   "outputs": [
    {
     "data": {
      "text/plain": [
       "'HON'"
      ]
     },
     "execution_count": 25,
     "metadata": {},
     "output_type": "execute_result"
    }
   ],
   "source": [
    "# negatice slicing\n",
    "s[-3:]"
   ]
  },
  {
   "cell_type": "code",
   "execution_count": 26,
   "id": "8f7b3a1a",
   "metadata": {},
   "outputs": [
    {
     "data": {
      "text/plain": [
       "'HON'"
      ]
     },
     "execution_count": 26,
     "metadata": {},
     "output_type": "execute_result"
    }
   ],
   "source": [
    "# to the end\n",
    "s[3:]"
   ]
  },
  {
   "cell_type": "code",
   "execution_count": 27,
   "id": "0f3a93b5",
   "metadata": {},
   "outputs": [
    {
     "data": {
      "text/plain": [
       "1"
      ]
     },
     "execution_count": 27,
     "metadata": {},
     "output_type": "execute_result"
    }
   ],
   "source": [
    "s.index('Y')"
   ]
  },
  {
   "cell_type": "markdown",
   "id": "92b5f27b",
   "metadata": {},
   "source": [
    "### Updating String"
   ]
  },
  {
   "cell_type": "code",
   "execution_count": 28,
   "id": "9a06c4a6",
   "metadata": {},
   "outputs": [],
   "source": [
    "s=\"PYTHON\""
   ]
  },
  {
   "cell_type": "code",
   "execution_count": 29,
   "id": "16a6c3b1",
   "metadata": {},
   "outputs": [
    {
     "data": {
      "text/plain": [
       "'MYTHON'"
      ]
     },
     "execution_count": 29,
     "metadata": {},
     "output_type": "execute_result"
    }
   ],
   "source": [
    "s.replace('P','M')"
   ]
  },
  {
   "cell_type": "code",
   "execution_count": 30,
   "id": "32796ab5",
   "metadata": {},
   "outputs": [
    {
     "data": {
      "text/plain": [
       "'Mango'"
      ]
     },
     "execution_count": 30,
     "metadata": {},
     "output_type": "execute_result"
    }
   ],
   "source": [
    "s.replace('PYTHON','Mango')"
   ]
  },
  {
   "cell_type": "markdown",
   "id": "e1b0230d",
   "metadata": {},
   "source": [
    "### Concat Strings"
   ]
  },
  {
   "cell_type": "code",
   "execution_count": 31,
   "id": "8d9dbd30",
   "metadata": {},
   "outputs": [],
   "source": [
    "a='apple'\n",
    "b='is a fruit'"
   ]
  },
  {
   "cell_type": "code",
   "execution_count": 32,
   "id": "8c6f358c",
   "metadata": {},
   "outputs": [
    {
     "data": {
      "text/plain": [
       "'appleis a fruit'"
      ]
     },
     "execution_count": 32,
     "metadata": {},
     "output_type": "execute_result"
    }
   ],
   "source": [
    "a+''+b  # have  to use white space"
   ]
  },
  {
   "cell_type": "markdown",
   "id": "ebef93eb",
   "metadata": {},
   "source": [
    "## Format string"
   ]
  },
  {
   "cell_type": "code",
   "execution_count": 33,
   "id": "224c04ad",
   "metadata": {},
   "outputs": [
    {
     "name": "stdout",
     "output_type": "stream",
     "text": [
      "Your name : \n",
      "Your Age :\n"
     ]
    }
   ],
   "source": [
    "name=input('Your name : ')\n",
    "age=input('Your Age :' )"
   ]
  },
  {
   "cell_type": "code",
   "execution_count": 34,
   "id": "48a4a27b",
   "metadata": {},
   "outputs": [
    {
     "name": "stdout",
     "output_type": "stream",
     "text": [
      "\n"
     ]
    }
   ],
   "source": [
    "print(name)"
   ]
  },
  {
   "cell_type": "code",
   "execution_count": 35,
   "id": "f5cc87ad",
   "metadata": {},
   "outputs": [
    {
     "data": {
      "text/plain": [
       "'Hi  happy to learn data science'"
      ]
     },
     "execution_count": 35,
     "metadata": {},
     "output_type": "execute_result"
    }
   ],
   "source": [
    "txt= \"Hi \"+ age +\" happy to learn data science\" + age\n",
    "txt"
   ]
  },
  {
   "cell_type": "code",
   "execution_count": 36,
   "id": "53f606f5",
   "metadata": {},
   "outputs": [
    {
     "name": "stdout",
     "output_type": "stream",
     "text": [
      "Hi sabari,welcome to learn datascience at age of 25\n"
     ]
    }
   ],
   "source": [
    "name='sabari'\n",
    "age=25\n",
    "txt=\"Hi {},welcome to learn datascience at age of {}\"\n",
    "print(txt.format(name,age))"
   ]
  },
  {
   "cell_type": "code",
   "execution_count": 37,
   "id": "ed79b1a2",
   "metadata": {},
   "outputs": [
    {
     "name": "stdout",
     "output_type": "stream",
     "text": [
      "Hi 25,welcome to learn datascience at age of sabari\n"
     ]
    }
   ],
   "source": [
    "# with index\n",
    "name='sabari'\n",
    "age=25\n",
    "txt=\"Hi {1},welcome to learn datascience at age of {0}\"\n",
    "print(txt.format(name,age))"
   ]
  },
  {
   "cell_type": "code",
   "execution_count": 38,
   "id": "7c5619b0",
   "metadata": {},
   "outputs": [
    {
     "data": {
      "text/plain": [
       "'Hi sabari,welcome to learn datascience at age of 25'"
      ]
     },
     "execution_count": 38,
     "metadata": {},
     "output_type": "execute_result"
    }
   ],
   "source": [
    "# with index\n",
    "name='sabari'\n",
    "age=25\n",
    "txt=f\"Hi {name},welcome to learn datascience at age of {age}\"\n",
    "txt"
   ]
  },
  {
   "cell_type": "markdown",
   "id": "00191ab6",
   "metadata": {},
   "source": [
    "## Escape Characters"
   ]
  },
  {
   "cell_type": "code",
   "execution_count": 39,
   "id": "9b47e1bc",
   "metadata": {},
   "outputs": [
    {
     "name": "stdout",
     "output_type": "stream",
     "text": [
      "i am sabari\n",
      ",i am learning data science\n"
     ]
    }
   ],
   "source": [
    "a='i am sabari\\n,i am learning data science'\n",
    "print(a)"
   ]
  },
  {
   "cell_type": "code",
   "execution_count": 40,
   "id": "ca766c81",
   "metadata": {},
   "outputs": [
    {
     "name": "stdout",
     "output_type": "stream",
     "text": [
      "i am sabari\t,i am learning data science\n"
     ]
    }
   ],
   "source": [
    "a='i am sabari\\t,i am learning data science'\n",
    "print(a)"
   ]
  },
  {
   "cell_type": "code",
   "execution_count": 41,
   "id": "022c56f6",
   "metadata": {},
   "outputs": [
    {
     "name": "stdout",
     "output_type": "stream",
     "text": [
      "i am sabari\b,i am learning data science\n"
     ]
    }
   ],
   "source": [
    "a='i am sabari\\b,i am learning data science'\n",
    "print(a)"
   ]
  },
  {
   "cell_type": "code",
   "execution_count": 42,
   "id": "1edc796a",
   "metadata": {},
   "outputs": [],
   "source": [
    "import datetime"
   ]
  },
  {
   "cell_type": "code",
   "execution_count": 43,
   "id": "9094b0ba",
   "metadata": {},
   "outputs": [],
   "source": [
    "date=datetime.date"
   ]
  },
  {
   "cell_type": "code",
   "execution_count": 44,
   "id": "a10e9b88",
   "metadata": {},
   "outputs": [
    {
     "name": "stdout",
     "output_type": "stream",
     "text": [
      "2023-07-29\n"
     ]
    }
   ],
   "source": [
    "a=date.today()\n",
    "print(a)"
   ]
  },
  {
   "cell_type": "code",
   "execution_count": 45,
   "id": "efd1f762",
   "metadata": {},
   "outputs": [
    {
     "data": {
      "text/plain": [
       "\"today's date\""
      ]
     },
     "execution_count": 45,
     "metadata": {},
     "output_type": "execute_result"
    }
   ],
   "source": [
    "a='today\\'s date'\n",
    "a"
   ]
  },
  {
   "cell_type": "markdown",
   "id": "5cef134b",
   "metadata": {},
   "source": [
    "### String with whitespace"
   ]
  },
  {
   "cell_type": "code",
   "execution_count": 46,
   "id": "c462f692",
   "metadata": {},
   "outputs": [
    {
     "name": "stdout",
     "output_type": "stream",
     "text": [
      "length of 's' : 6 - without whitespace\n",
      "length of a : 7 - With whitespace\n"
     ]
    }
   ],
   "source": [
    "# white space are counted in index\n",
    "\n",
    "s= 'Python'\n",
    "print(\"length of 's' :\",len(s),'- without whitespace')\n",
    "\n",
    "a=' Python'      # has whitespace\n",
    "print('length of a :',len(a),'- With whitespace')"
   ]
  },
  {
   "cell_type": "code",
   "execution_count": 47,
   "id": "3422a8b9",
   "metadata": {},
   "outputs": [
    {
     "data": {
      "text/plain": [
       "'i am'"
      ]
     },
     "execution_count": 47,
     "metadata": {},
     "output_type": "execute_result"
    }
   ],
   "source": [
    "f= 'i am learning data science'\n",
    "\n",
    "f[:4]"
   ]
  },
  {
   "cell_type": "markdown",
   "id": "49841bd3",
   "metadata": {},
   "source": [
    "### Type casting in string\n"
   ]
  },
  {
   "cell_type": "code",
   "execution_count": 48,
   "id": "d01c1892",
   "metadata": {},
   "outputs": [
    {
     "data": {
      "text/plain": [
       "'1'"
      ]
     },
     "execution_count": 48,
     "metadata": {},
     "output_type": "execute_result"
    }
   ],
   "source": [
    "a=str(1)\n",
    "a"
   ]
  },
  {
   "cell_type": "code",
   "execution_count": 49,
   "id": "77cb6511",
   "metadata": {},
   "outputs": [
    {
     "data": {
      "text/plain": [
       "str"
      ]
     },
     "execution_count": 49,
     "metadata": {},
     "output_type": "execute_result"
    }
   ],
   "source": [
    "type(a)"
   ]
  },
  {
   "cell_type": "code",
   "execution_count": 50,
   "id": "6a094c37",
   "metadata": {},
   "outputs": [
    {
     "ename": "ValueError",
     "evalue": "could not convert string to float: '2.5a'",
     "output_type": "error",
     "traceback": [
      "\u001b[1;31m---------------------------------------------------------------------------\u001b[0m",
      "\u001b[1;31mValueError\u001b[0m                                Traceback (most recent call last)",
      "Cell \u001b[1;32mIn [50], line 1\u001b[0m\n\u001b[1;32m----> 1\u001b[0m b\u001b[38;5;241m=\u001b[39m\u001b[38;5;28mfloat\u001b[39m(\u001b[38;5;124m'\u001b[39m\u001b[38;5;124m2.5a\u001b[39m\u001b[38;5;124m'\u001b[39m)\n\u001b[0;32m      2\u001b[0m b\n",
      "\u001b[1;31mValueError\u001b[0m: could not convert string to float: '2.5a'"
     ]
    }
   ],
   "source": [
    "b=float('2.5a')\n",
    "b"
   ]
  },
  {
   "cell_type": "code",
   "execution_count": 51,
   "id": "69dc299f",
   "metadata": {},
   "outputs": [
    {
     "data": {
      "text/plain": [
       "str"
      ]
     },
     "execution_count": 51,
     "metadata": {},
     "output_type": "execute_result"
    }
   ],
   "source": [
    "type(b)"
   ]
  },
  {
   "cell_type": "markdown",
   "id": "acc63d3d",
   "metadata": {},
   "source": [
    "#### Characters of string"
   ]
  },
  {
   "cell_type": "code",
   "execution_count": 52,
   "id": "a02b1816",
   "metadata": {},
   "outputs": [
    {
     "ename": "SyntaxError",
     "evalue": "unterminated string literal (detected at line 2) (1703780366.py, line 2)",
     "output_type": "error",
     "traceback": [
      "\u001b[1;36m  Cell \u001b[1;32mIn [52], line 2\u001b[1;36m\u001b[0m\n\u001b[1;33m    d='i am learning\u001b[0m\n\u001b[1;37m      ^\u001b[0m\n\u001b[1;31mSyntaxError\u001b[0m\u001b[1;31m:\u001b[0m unterminated string literal (detected at line 2)\n"
     ]
    }
   ],
   "source": [
    "# don't break the line while using single and double quote\n",
    "d='i am learning\n",
    "data science'\n",
    "d"
   ]
  },
  {
   "cell_type": "code",
   "execution_count": 53,
   "id": "dc6a7867",
   "metadata": {},
   "outputs": [
    {
     "ename": "SyntaxError",
     "evalue": "unterminated string literal (detected at line 1) (4232850146.py, line 1)",
     "output_type": "error",
     "traceback": [
      "\u001b[1;36m  Cell \u001b[1;32mIn [53], line 1\u001b[1;36m\u001b[0m\n\u001b[1;33m    g='today's NEWS'\u001b[0m\n\u001b[1;37m                   ^\u001b[0m\n\u001b[1;31mSyntaxError\u001b[0m\u001b[1;31m:\u001b[0m unterminated string literal (detected at line 1)\n"
     ]
    }
   ],
   "source": [
    "g='today's NEWS'"
   ]
  },
  {
   "cell_type": "code",
   "execution_count": 54,
   "id": "8258d029",
   "metadata": {},
   "outputs": [],
   "source": [
    "g=\"today's NEWS\""
   ]
  },
  {
   "cell_type": "code",
   "execution_count": 55,
   "id": "22ea4aaf",
   "metadata": {},
   "outputs": [],
   "source": [
    "# You can break the line using triple quote\n",
    "# for documentation in funtion - Doc string\n",
    "\n",
    "c=\"\"\" I\n",
    "am\n",
    "learning\n",
    "data science\n",
    "\"\"\""
   ]
  },
  {
   "cell_type": "code",
   "execution_count": 56,
   "id": "d59efc5e",
   "metadata": {},
   "outputs": [],
   "source": [
    "\n",
    "c='''\n",
    "I\n",
    "am\n",
    "learning\n",
    "data science\n",
    "\n",
    "'''"
   ]
  },
  {
   "cell_type": "code",
   "execution_count": 57,
   "id": "89fc23c0",
   "metadata": {},
   "outputs": [
    {
     "name": "stdout",
     "output_type": "stream",
     "text": [
      "\n"
     ]
    }
   ],
   "source": [
    "print()"
   ]
  },
  {
   "cell_type": "markdown",
   "id": "61b8a888",
   "metadata": {},
   "source": [
    "# Operators\n",
    "- Arithmetic Operators\n",
    "- Assignment Operatos"
   ]
  },
  {
   "cell_type": "markdown",
   "id": "d84b1d3b",
   "metadata": {},
   "source": [
    "## Arithmetic Operators"
   ]
  },
  {
   "cell_type": "code",
   "execution_count": 58,
   "id": "4e7cf8dc",
   "metadata": {},
   "outputs": [
    {
     "data": {
      "text/plain": [
       "3"
      ]
     },
     "execution_count": 58,
     "metadata": {},
     "output_type": "execute_result"
    }
   ],
   "source": [
    "1+2"
   ]
  },
  {
   "cell_type": "code",
   "execution_count": 59,
   "id": "87af44e2",
   "metadata": {},
   "outputs": [
    {
     "data": {
      "text/plain": [
       "-1"
      ]
     },
     "execution_count": 59,
     "metadata": {},
     "output_type": "execute_result"
    }
   ],
   "source": [
    "1-2"
   ]
  },
  {
   "cell_type": "code",
   "execution_count": 60,
   "id": "dc5b533f",
   "metadata": {},
   "outputs": [
    {
     "data": {
      "text/plain": [
       "9"
      ]
     },
     "execution_count": 60,
     "metadata": {},
     "output_type": "execute_result"
    }
   ],
   "source": [
    "3*3"
   ]
  },
  {
   "cell_type": "code",
   "execution_count": 61,
   "id": "a0d4c7da",
   "metadata": {},
   "outputs": [
    {
     "data": {
      "text/plain": [
       "1.5"
      ]
     },
     "execution_count": 61,
     "metadata": {},
     "output_type": "execute_result"
    }
   ],
   "source": [
    "9/6"
   ]
  },
  {
   "cell_type": "code",
   "execution_count": 62,
   "id": "85ce6869",
   "metadata": {},
   "outputs": [
    {
     "data": {
      "text/plain": [
       "3"
      ]
     },
     "execution_count": 62,
     "metadata": {},
     "output_type": "execute_result"
    }
   ],
   "source": [
    "# modulus (remainder)\n",
    "9%6"
   ]
  },
  {
   "cell_type": "code",
   "execution_count": 63,
   "id": "1d15660f",
   "metadata": {},
   "outputs": [
    {
     "data": {
      "text/plain": [
       "1"
      ]
     },
     "execution_count": 63,
     "metadata": {},
     "output_type": "execute_result"
    }
   ],
   "source": [
    "9//6"
   ]
  },
  {
   "cell_type": "code",
   "execution_count": 64,
   "id": "a1fdee18",
   "metadata": {},
   "outputs": [
    {
     "data": {
      "text/plain": [
       "81"
      ]
     },
     "execution_count": 64,
     "metadata": {},
     "output_type": "execute_result"
    }
   ],
   "source": [
    "#Exponentiation (power)\n",
    "3**4"
   ]
  },
  {
   "cell_type": "markdown",
   "id": "617c734e",
   "metadata": {},
   "source": [
    "## Assignment Operators\n",
    "### Example for boolean\n"
   ]
  },
  {
   "cell_type": "code",
   "execution_count": 65,
   "id": "8b88f34f",
   "metadata": {},
   "outputs": [],
   "source": [
    "a=1\n",
    "b=1"
   ]
  },
  {
   "cell_type": "code",
   "execution_count": 66,
   "id": "0eb4d4fe",
   "metadata": {},
   "outputs": [
    {
     "data": {
      "text/plain": [
       "True"
      ]
     },
     "execution_count": 66,
     "metadata": {},
     "output_type": "execute_result"
    }
   ],
   "source": [
    "#equal\n",
    "a==b"
   ]
  },
  {
   "cell_type": "code",
   "execution_count": 67,
   "id": "f63ae86c",
   "metadata": {},
   "outputs": [
    {
     "data": {
      "text/plain": [
       "False"
      ]
     },
     "execution_count": 67,
     "metadata": {},
     "output_type": "execute_result"
    }
   ],
   "source": [
    "#not equal\n",
    "a!=b"
   ]
  },
  {
   "cell_type": "code",
   "execution_count": 68,
   "id": "e7918cc4",
   "metadata": {},
   "outputs": [
    {
     "data": {
      "text/plain": [
       "False"
      ]
     },
     "execution_count": 68,
     "metadata": {},
     "output_type": "execute_result"
    }
   ],
   "source": [
    "a<b"
   ]
  },
  {
   "cell_type": "code",
   "execution_count": 69,
   "id": "ad793c4e",
   "metadata": {},
   "outputs": [
    {
     "data": {
      "text/plain": [
       "False"
      ]
     },
     "execution_count": 69,
     "metadata": {},
     "output_type": "execute_result"
    }
   ],
   "source": [
    "\n",
    "a>b"
   ]
  },
  {
   "cell_type": "code",
   "execution_count": 70,
   "id": "3479e45e",
   "metadata": {},
   "outputs": [
    {
     "data": {
      "text/plain": [
       "True"
      ]
     },
     "execution_count": 70,
     "metadata": {},
     "output_type": "execute_result"
    }
   ],
   "source": [
    "a<=b"
   ]
  },
  {
   "cell_type": "code",
   "execution_count": 71,
   "id": "61da4b7a",
   "metadata": {},
   "outputs": [
    {
     "data": {
      "text/plain": [
       "True"
      ]
     },
     "execution_count": 71,
     "metadata": {},
     "output_type": "execute_result"
    }
   ],
   "source": [
    "a>=b"
   ]
  },
  {
   "cell_type": "code",
   "execution_count": null,
   "id": "a94e5fab",
   "metadata": {},
   "outputs": [],
   "source": []
  },
  {
   "cell_type": "markdown",
   "id": "f5b1e870",
   "metadata": {},
   "source": [
    "# Compound Data types\n",
    "- list [ ]\n",
    "- tuple( )\n",
    "- set  { }\n",
    "- dict { }\n",
    "\n",
    "There are four collection data types in the Python programming language:\n",
    "- List is a collection which is ordered and changeable. Allows duplicate members.\n",
    "- Tuple is a collection which is ordered and unchangeable. Allows duplicate members.\n",
    "- Set is a collection which is unordered, unchangeable*, and unindexed. No duplicate members.\n",
    "- Dictionary is a collection which is ordered** and changeable. No duplicate members. "
   ]
  },
  {
   "cell_type": "code",
   "execution_count": 72,
   "id": "a9c072f8",
   "metadata": {},
   "outputs": [
    {
     "data": {
      "text/plain": [
       "list"
      ]
     },
     "execution_count": 72,
     "metadata": {},
     "output_type": "execute_result"
    }
   ],
   "source": [
    "a=[1,'sabari',3,4,4]\n",
    "type(a)"
   ]
  },
  {
   "cell_type": "code",
   "execution_count": 73,
   "id": "77b81877",
   "metadata": {},
   "outputs": [
    {
     "name": "stdout",
     "output_type": "stream",
     "text": [
      "[1, 'sabari', 3, 4, 4]\n"
     ]
    }
   ],
   "source": [
    "print(a)"
   ]
  },
  {
   "cell_type": "code",
   "execution_count": 74,
   "id": "dcaeb683",
   "metadata": {},
   "outputs": [
    {
     "data": {
      "text/plain": [
       "tuple"
      ]
     },
     "execution_count": 74,
     "metadata": {},
     "output_type": "execute_result"
    }
   ],
   "source": [
    "b=(1,'sabari',3,4)\n",
    "type(b)"
   ]
  },
  {
   "cell_type": "code",
   "execution_count": 75,
   "id": "e28d10fb",
   "metadata": {},
   "outputs": [
    {
     "name": "stdout",
     "output_type": "stream",
     "text": [
      "(1, 'sabari', 3, 4)\n"
     ]
    }
   ],
   "source": [
    "print(b)"
   ]
  },
  {
   "cell_type": "markdown",
   "id": "3c8d324a",
   "metadata": {},
   "source": [
    "## List\n",
    "- ordered\n",
    "- mutable (changeble)\n",
    "- allow duplicates"
   ]
  },
  {
   "cell_type": "code",
   "execution_count": 76,
   "id": "9853b2fb",
   "metadata": {},
   "outputs": [
    {
     "data": {
      "text/plain": [
       "list"
      ]
     },
     "execution_count": 76,
     "metadata": {},
     "output_type": "execute_result"
    }
   ],
   "source": [
    "c=[]\n",
    "type(c)"
   ]
  },
  {
   "cell_type": "code",
   "execution_count": 77,
   "id": "d21fa9a9",
   "metadata": {},
   "outputs": [
    {
     "data": {
      "text/plain": [
       "list"
      ]
     },
     "execution_count": 77,
     "metadata": {},
     "output_type": "execute_result"
    }
   ],
   "source": [
    "a=['sabari','hari',23,23] # allow duplicates\n",
    "type(a)"
   ]
  },
  {
   "cell_type": "code",
   "execution_count": 78,
   "id": "9de25a75",
   "metadata": {},
   "outputs": [
    {
     "data": {
      "text/plain": [
       "4"
      ]
     },
     "execution_count": 78,
     "metadata": {},
     "output_type": "execute_result"
    }
   ],
   "source": [
    "len(a)"
   ]
  },
  {
   "cell_type": "code",
   "execution_count": 79,
   "id": "f05512f8",
   "metadata": {},
   "outputs": [
    {
     "name": "stdout",
     "output_type": "stream",
     "text": [
      "['sabari', 'hari', 23, 23]\n"
     ]
    }
   ],
   "source": [
    "print(a)    # ordered "
   ]
  },
  {
   "cell_type": "code",
   "execution_count": 80,
   "id": "e66e6912",
   "metadata": {},
   "outputs": [
    {
     "data": {
      "text/plain": [
       "'sabari'"
      ]
     },
     "execution_count": 80,
     "metadata": {},
     "output_type": "execute_result"
    }
   ],
   "source": [
    "a[0]   #indexing like string"
   ]
  },
  {
   "cell_type": "code",
   "execution_count": 81,
   "id": "d283726d",
   "metadata": {},
   "outputs": [
    {
     "data": {
      "text/plain": [
       "23"
      ]
     },
     "execution_count": 81,
     "metadata": {},
     "output_type": "execute_result"
    }
   ],
   "source": [
    "a[-1]"
   ]
  },
  {
   "cell_type": "code",
   "execution_count": 82,
   "id": "0e5c4b32",
   "metadata": {},
   "outputs": [],
   "source": [
    "a[0]='nadha'   # changable"
   ]
  },
  {
   "cell_type": "code",
   "execution_count": 83,
   "id": "87a45890",
   "metadata": {},
   "outputs": [
    {
     "data": {
      "text/plain": [
       "['nadha', 'hari', 23, 23]"
      ]
     },
     "execution_count": 83,
     "metadata": {},
     "output_type": "execute_result"
    }
   ],
   "source": [
    "a"
   ]
  },
  {
   "cell_type": "code",
   "execution_count": 84,
   "id": "363d36c2",
   "metadata": {},
   "outputs": [
    {
     "data": {
      "text/plain": [
       "2"
      ]
     },
     "execution_count": 84,
     "metadata": {},
     "output_type": "execute_result"
    }
   ],
   "source": [
    "a.count(23)  # count the number of iteams or value"
   ]
  },
  {
   "cell_type": "code",
   "execution_count": 85,
   "id": "4e70366b",
   "metadata": {},
   "outputs": [
    {
     "data": {
      "text/plain": [
       "2"
      ]
     },
     "execution_count": 85,
     "metadata": {},
     "output_type": "execute_result"
    }
   ],
   "source": [
    "a.index(23)    "
   ]
  },
  {
   "cell_type": "code",
   "execution_count": 86,
   "id": "976402d4",
   "metadata": {},
   "outputs": [
    {
     "data": {
      "text/plain": [
       "[23, 23, 'hari', 'nadha']"
      ]
     },
     "execution_count": 86,
     "metadata": {},
     "output_type": "execute_result"
    }
   ],
   "source": [
    "a.reverse()       \n",
    "a"
   ]
  },
  {
   "cell_type": "code",
   "execution_count": 87,
   "id": "fda2d46f",
   "metadata": {},
   "outputs": [],
   "source": [
    "b=[9,7,7,6,9]"
   ]
  },
  {
   "cell_type": "code",
   "execution_count": 88,
   "id": "2e110b64",
   "metadata": {},
   "outputs": [
    {
     "data": {
      "text/plain": [
       "[23, 23, 'hari', 'nadha', 9, 7, 7, 6, 9]"
      ]
     },
     "execution_count": 88,
     "metadata": {},
     "output_type": "execute_result"
    }
   ],
   "source": [
    "a+b         # join two list"
   ]
  },
  {
   "cell_type": "code",
   "execution_count": 89,
   "id": "375aaec0",
   "metadata": {},
   "outputs": [
    {
     "data": {
      "text/plain": [
       "[9, 9, 7, 7, 6]"
      ]
     },
     "execution_count": 89,
     "metadata": {},
     "output_type": "execute_result"
    }
   ],
   "source": [
    "b.sort(reverse=True)\n",
    "b"
   ]
  },
  {
   "cell_type": "code",
   "execution_count": 90,
   "id": "05d10e9f",
   "metadata": {},
   "outputs": [
    {
     "data": {
      "text/plain": [
       "7"
      ]
     },
     "execution_count": 90,
     "metadata": {},
     "output_type": "execute_result"
    }
   ],
   "source": [
    "b.pop(3)   # take that out of the list with index value"
   ]
  },
  {
   "cell_type": "code",
   "execution_count": 91,
   "id": "2b5ce3cc",
   "metadata": {},
   "outputs": [
    {
     "data": {
      "text/plain": [
       "[9, 9, 7, 6]"
      ]
     },
     "execution_count": 91,
     "metadata": {},
     "output_type": "execute_result"
    }
   ],
   "source": [
    "b"
   ]
  },
  {
   "cell_type": "code",
   "execution_count": 92,
   "id": "5a53bb76",
   "metadata": {},
   "outputs": [
    {
     "data": {
      "text/plain": [
       "[9, 7, 6]"
      ]
     },
     "execution_count": 92,
     "metadata": {},
     "output_type": "execute_result"
    }
   ],
   "source": [
    "b.remove(9)    # remove item with value \n",
    "b"
   ]
  },
  {
   "cell_type": "code",
   "execution_count": 93,
   "id": "7d3479b9",
   "metadata": {},
   "outputs": [],
   "source": [
    "b.append(2)        # add the item at end"
   ]
  },
  {
   "cell_type": "code",
   "execution_count": 94,
   "id": "bc29a9e2",
   "metadata": {},
   "outputs": [
    {
     "data": {
      "text/plain": [
       "[9, 7, 6, 2]"
      ]
     },
     "execution_count": 94,
     "metadata": {},
     "output_type": "execute_result"
    }
   ],
   "source": [
    "b"
   ]
  },
  {
   "cell_type": "code",
   "execution_count": 95,
   "id": "1e89e49d",
   "metadata": {},
   "outputs": [],
   "source": [
    "b.insert(1,'sabari')  # adding values with speific index "
   ]
  },
  {
   "cell_type": "code",
   "execution_count": 96,
   "id": "8708f287",
   "metadata": {},
   "outputs": [
    {
     "data": {
      "text/plain": [
       "[9, 'sabari', 7, 6, 2]"
      ]
     },
     "execution_count": 96,
     "metadata": {},
     "output_type": "execute_result"
    }
   ],
   "source": [
    "b"
   ]
  },
  {
   "cell_type": "code",
   "execution_count": 97,
   "id": "af39b5b9",
   "metadata": {},
   "outputs": [],
   "source": [
    "b.extend([1,2,3,])      # add mutiple value data time"
   ]
  },
  {
   "cell_type": "code",
   "execution_count": 98,
   "id": "bbc41437",
   "metadata": {},
   "outputs": [
    {
     "data": {
      "text/plain": [
       "[9, 'sabari', 7, 6, 2, 1, 2, 3]"
      ]
     },
     "execution_count": 98,
     "metadata": {},
     "output_type": "execute_result"
    }
   ],
   "source": [
    "b"
   ]
  },
  {
   "cell_type": "code",
   "execution_count": 99,
   "id": "02c25aac",
   "metadata": {},
   "outputs": [
    {
     "data": {
      "text/plain": [
       "[3, 2, 1, 2, 6, 7, 'sabari', 9]"
      ]
     },
     "execution_count": 99,
     "metadata": {},
     "output_type": "execute_result"
    }
   ],
   "source": [
    "b.reverse()            \n",
    "b"
   ]
  },
  {
   "cell_type": "code",
   "execution_count": 100,
   "id": "c087a740",
   "metadata": {},
   "outputs": [],
   "source": [
    "b.clear()        "
   ]
  },
  {
   "cell_type": "code",
   "execution_count": 101,
   "id": "06003019",
   "metadata": {},
   "outputs": [
    {
     "data": {
      "text/plain": [
       "[]"
      ]
     },
     "execution_count": 101,
     "metadata": {},
     "output_type": "execute_result"
    }
   ],
   "source": [
    "b"
   ]
  },
  {
   "cell_type": "code",
   "execution_count": null,
   "id": "69b362d2",
   "metadata": {},
   "outputs": [],
   "source": []
  },
  {
   "cell_type": "markdown",
   "id": "b4f65681",
   "metadata": {},
   "source": [
    "## Tuple\n",
    "- ordered\n",
    "- immuntable (not changeable)\n",
    "- allow duplicates"
   ]
  },
  {
   "cell_type": "code",
   "execution_count": 102,
   "id": "8d47f0bf",
   "metadata": {},
   "outputs": [
    {
     "data": {
      "text/plain": [
       "tuple"
      ]
     },
     "execution_count": 102,
     "metadata": {},
     "output_type": "execute_result"
    }
   ],
   "source": [
    "b=(1,2,2,'sabari')         # allow duplicates\n",
    "type(b)"
   ]
  },
  {
   "cell_type": "code",
   "execution_count": 103,
   "id": "bd009033",
   "metadata": {},
   "outputs": [
    {
     "data": {
      "text/plain": [
       "(1, 2, 2, 'sabari')"
      ]
     },
     "execution_count": 103,
     "metadata": {},
     "output_type": "execute_result"
    }
   ],
   "source": [
    "b                         # ordered"
   ]
  },
  {
   "cell_type": "code",
   "execution_count": 104,
   "id": "1b779e9e",
   "metadata": {},
   "outputs": [
    {
     "ename": "TypeError",
     "evalue": "'tuple' object does not support item assignment",
     "output_type": "error",
     "traceback": [
      "\u001b[1;31m---------------------------------------------------------------------------\u001b[0m",
      "\u001b[1;31mTypeError\u001b[0m                                 Traceback (most recent call last)",
      "Cell \u001b[1;32mIn [104], line 1\u001b[0m\n\u001b[1;32m----> 1\u001b[0m b[\u001b[38;5;241m0\u001b[39m]\u001b[38;5;241m=\u001b[39m\u001b[38;5;241m2\u001b[39m\n",
      "\u001b[1;31mTypeError\u001b[0m: 'tuple' object does not support item assignment"
     ]
    }
   ],
   "source": [
    "b[0]=2"
   ]
  },
  {
   "cell_type": "code",
   "execution_count": 105,
   "id": "0c64de8a",
   "metadata": {},
   "outputs": [
    {
     "data": {
      "text/plain": [
       "1"
      ]
     },
     "execution_count": 105,
     "metadata": {},
     "output_type": "execute_result"
    }
   ],
   "source": [
    "b.count(1)"
   ]
  },
  {
   "cell_type": "code",
   "execution_count": 106,
   "id": "b7ccf9e5",
   "metadata": {},
   "outputs": [
    {
     "data": {
      "text/plain": [
       "3"
      ]
     },
     "execution_count": 106,
     "metadata": {},
     "output_type": "execute_result"
    }
   ],
   "source": [
    "b.index('sabari')"
   ]
  },
  {
   "cell_type": "markdown",
   "id": "adb529c0",
   "metadata": {},
   "source": [
    "## Set\n",
    "- unordered,\n",
    "- unchangeable*, and unindexed.\n",
    "- No duplicate members."
   ]
  },
  {
   "cell_type": "code",
   "execution_count": 107,
   "id": "9659081f",
   "metadata": {},
   "outputs": [],
   "source": [
    "a={1,2,2,3,4,5,'sabari'}"
   ]
  },
  {
   "cell_type": "code",
   "execution_count": 108,
   "id": "d2b85519",
   "metadata": {},
   "outputs": [
    {
     "data": {
      "text/plain": [
       "set"
      ]
     },
     "execution_count": 108,
     "metadata": {},
     "output_type": "execute_result"
    }
   ],
   "source": [
    "type(a)"
   ]
  },
  {
   "cell_type": "code",
   "execution_count": 109,
   "id": "a306ca66",
   "metadata": {},
   "outputs": [
    {
     "data": {
      "text/plain": [
       "{1, 2, 3, 4, 5, 'sabari'}"
      ]
     },
     "execution_count": 109,
     "metadata": {},
     "output_type": "execute_result"
    }
   ],
   "source": [
    "a        # no duplicates"
   ]
  },
  {
   "cell_type": "markdown",
   "id": "7901818f",
   "metadata": {},
   "source": [
    "## Dict\n",
    "- ordered\n",
    "- changeable\n",
    "- No duplicate members. "
   ]
  },
  {
   "cell_type": "code",
   "execution_count": 110,
   "id": "eb30e22a",
   "metadata": {},
   "outputs": [],
   "source": [
    "s={'name':'sabari',          # key : value\n",
    "   'age': 25}     "
   ]
  },
  {
   "cell_type": "code",
   "execution_count": 111,
   "id": "efe947a2",
   "metadata": {},
   "outputs": [
    {
     "data": {
      "text/plain": [
       "dict"
      ]
     },
     "execution_count": 111,
     "metadata": {},
     "output_type": "execute_result"
    }
   ],
   "source": [
    "type(s)"
   ]
  },
  {
   "cell_type": "code",
   "execution_count": 112,
   "id": "768e4f69",
   "metadata": {},
   "outputs": [
    {
     "data": {
      "text/plain": [
       "dict_keys(['name', 'age'])"
      ]
     },
     "execution_count": 112,
     "metadata": {},
     "output_type": "execute_result"
    }
   ],
   "source": [
    "s.keys()"
   ]
  },
  {
   "cell_type": "code",
   "execution_count": 113,
   "id": "44de1fca",
   "metadata": {},
   "outputs": [
    {
     "data": {
      "text/plain": [
       "dict_values(['sabari', 25])"
      ]
     },
     "execution_count": 113,
     "metadata": {},
     "output_type": "execute_result"
    }
   ],
   "source": [
    "s.values()"
   ]
  },
  {
   "cell_type": "code",
   "execution_count": 114,
   "id": "a12799c4",
   "metadata": {},
   "outputs": [
    {
     "data": {
      "text/plain": [
       "'sabari'"
      ]
     },
     "execution_count": 114,
     "metadata": {},
     "output_type": "execute_result"
    }
   ],
   "source": [
    "s['name']          # access buy key"
   ]
  },
  {
   "cell_type": "code",
   "execution_count": 115,
   "id": "e1906431",
   "metadata": {},
   "outputs": [
    {
     "data": {
      "text/plain": [
       "dict_items([('name', 'sabari'), ('age', 25)])"
      ]
     },
     "execution_count": 115,
     "metadata": {},
     "output_type": "execute_result"
    }
   ],
   "source": [
    "s.items()"
   ]
  },
  {
   "cell_type": "code",
   "execution_count": 116,
   "id": "819c630e",
   "metadata": {},
   "outputs": [],
   "source": [
    "s['name']='Hari'         #update values "
   ]
  },
  {
   "cell_type": "code",
   "execution_count": 117,
   "id": "29843a47",
   "metadata": {},
   "outputs": [
    {
     "data": {
      "text/plain": [
       "{'name': 'Hari', 'age': 25}"
      ]
     },
     "execution_count": 117,
     "metadata": {},
     "output_type": "execute_result"
    }
   ],
   "source": [
    "s"
   ]
  },
  {
   "cell_type": "code",
   "execution_count": 118,
   "id": "b2cf7406",
   "metadata": {},
   "outputs": [],
   "source": [
    "a={\n",
    "   'name':'sabari',\n",
    "    'age':25.3,\n",
    "    'year':2023,\n",
    "    'subject':['data science','web devlopment',\"cloud\"]\n",
    "    \n",
    "    \n",
    "}"
   ]
  },
  {
   "cell_type": "code",
   "execution_count": 119,
   "id": "29c82068",
   "metadata": {},
   "outputs": [
    {
     "data": {
      "text/plain": [
       "{'name': 'sabari',\n",
       " 'age': 25.3,\n",
       " 'year': 2023,\n",
       " 'subject': ['data science', 'web devlopment', 'cloud']}"
      ]
     },
     "execution_count": 119,
     "metadata": {},
     "output_type": "execute_result"
    }
   ],
   "source": [
    "a"
   ]
  },
  {
   "cell_type": "code",
   "execution_count": 120,
   "id": "dab296c1",
   "metadata": {},
   "outputs": [
    {
     "data": {
      "text/plain": [
       "['data science', 'web devlopment', 'cloud']"
      ]
     },
     "execution_count": 120,
     "metadata": {},
     "output_type": "execute_result"
    }
   ],
   "source": [
    "a['subject']"
   ]
  },
  {
   "cell_type": "markdown",
   "id": "a519a86d",
   "metadata": {},
   "source": [
    "# and , or Operators"
   ]
  },
  {
   "cell_type": "code",
   "execution_count": 121,
   "id": "c714e36b",
   "metadata": {},
   "outputs": [
    {
     "data": {
      "text/plain": [
       "True"
      ]
     },
     "execution_count": 121,
     "metadata": {},
     "output_type": "execute_result"
    }
   ],
   "source": [
    "True and True"
   ]
  },
  {
   "cell_type": "code",
   "execution_count": 122,
   "id": "ebfcb79b",
   "metadata": {},
   "outputs": [
    {
     "data": {
      "text/plain": [
       "True"
      ]
     },
     "execution_count": 122,
     "metadata": {},
     "output_type": "execute_result"
    }
   ],
   "source": [
    "True or False"
   ]
  },
  {
   "cell_type": "code",
   "execution_count": 123,
   "id": "8c9e55e4",
   "metadata": {},
   "outputs": [
    {
     "data": {
      "text/plain": [
       "True"
      ]
     },
     "execution_count": 123,
     "metadata": {},
     "output_type": "execute_result"
    }
   ],
   "source": [
    "False or True"
   ]
  },
  {
   "cell_type": "code",
   "execution_count": 124,
   "id": "096ca433",
   "metadata": {},
   "outputs": [
    {
     "data": {
      "text/plain": [
       "False"
      ]
     },
     "execution_count": 124,
     "metadata": {},
     "output_type": "execute_result"
    }
   ],
   "source": [
    "False or False"
   ]
  },
  {
   "cell_type": "markdown",
   "id": "c0d34baf",
   "metadata": {},
   "source": [
    "# If,elif,else statement"
   ]
  },
  {
   "cell_type": "code",
   "execution_count": 125,
   "id": "198a6e3f",
   "metadata": {},
   "outputs": [
    {
     "ename": "SyntaxError",
     "evalue": "unterminated string literal (detected at line 2) (3022852837.py, line 2)",
     "output_type": "error",
     "traceback": [
      "\u001b[1;36m  Cell \u001b[1;32mIn [125], line 2\u001b[1;36m\u001b[0m\n\u001b[1;33m    else u won't\u001b[0m\n\u001b[1;37m              ^\u001b[0m\n\u001b[1;31mSyntaxError\u001b[0m\u001b[1;31m:\u001b[0m unterminated string literal (detected at line 2)\n"
     ]
    }
   ],
   "source": [
    "If u Pass in exam, u get ur car\n",
    "else u won't"
   ]
  },
  {
   "cell_type": "code",
   "execution_count": 126,
   "id": "63cd8464",
   "metadata": {},
   "outputs": [
    {
     "name": "stdout",
     "output_type": "stream",
     "text": [
      "Hey, congrats you passed in english\n"
     ]
    }
   ],
   "source": [
    "english='pass'\n",
    "hindi='fail'\n",
    "\n",
    "\n",
    "if english=='pass' and hindi=='fail':           #if will be true when condition is passed \n",
    "    print('Hey, congrats you passed in english')\n",
    "elif english=='pass' and hindi=='pass':\n",
    "    print('all pass')\n",
    "else:                                           # IF above all contions are failed\n",
    "    print('You missed your car')\n",
    "    "
   ]
  },
  {
   "cell_type": "code",
   "execution_count": 150,
   "id": "86ed4202",
   "metadata": {},
   "outputs": [
    {
     "name": "stdout",
     "output_type": "stream",
     "text": [
      "Please enter an integer: 0\n",
      "Zero\n"
     ]
    }
   ],
   "source": [
    "x = int(input(\"Please enter an integer: \"))\n",
    "\n",
    "if x < 0:\n",
    "    x = 0\n",
    "    print('Negative changed to zero')\n",
    "elif x == 0:\n",
    "    print('Zero')\n",
    "elif x == 1:\n",
    "    print('Single')\n",
    "else:\n",
    "    print('More')"
   ]
  },
  {
   "cell_type": "markdown",
   "id": "95b06ac7",
   "metadata": {},
   "source": [
    "# Loops"
   ]
  },
  {
   "cell_type": "markdown",
   "id": "cb085297",
   "metadata": {},
   "source": [
    "i am studing python for data science "
   ]
  },
  {
   "cell_type": "code",
   "execution_count": 130,
   "id": "46f0aaa3",
   "metadata": {},
   "outputs": [
    {
     "name": "stdout",
     "output_type": "stream",
     "text": [
      "P\n",
      "y\n",
      "t\n",
      "h\n",
      "o\n",
      "n\n"
     ]
    }
   ],
   "source": [
    "study='Python'\n",
    "\n",
    "for i in study:\n",
    "    print(i)"
   ]
  },
  {
   "cell_type": "code",
   "execution_count": 131,
   "id": "58f10521",
   "metadata": {},
   "outputs": [
    {
     "name": "stdout",
     "output_type": "stream",
     "text": [
      "cat 3\n",
      "window 6\n",
      "defence 7\n"
     ]
    }
   ],
   "source": [
    "words = ['cat', 'window', 'defence']\n",
    "for i in words:\n",
    "    print(i, len(i))"
   ]
  },
  {
   "cell_type": "code",
   "execution_count": 165,
   "id": "f73e1c43",
   "metadata": {},
   "outputs": [
    {
     "name": "stdout",
     "output_type": "stream",
     "text": [
      "Active member is : Hans\n",
      "completed \n",
      "Inactive member is : Éléonore\n",
      "completed \n",
      "Status not found\n",
      "completed \n",
      "data done\n"
     ]
    }
   ],
   "source": [
    "users = {'Hans': 'active', 'Éléonore': 'inactive', '景太郎': ' '}\n",
    "for i,j in users.items():\n",
    "    if j=='inactive':\n",
    "        print('Inactive member is :',i)\n",
    "    elif j=='active':\n",
    "        print('Active member is :',i)\n",
    "    else :\n",
    "        print ('Status not found')\n",
    "          \n",
    "    print(\"completed \")\n",
    "else:\n",
    "    print('data done')"
   ]
  },
  {
   "cell_type": "markdown",
   "id": "e6bd9ef2",
   "metadata": {},
   "source": [
    "## .Copy()"
   ]
  },
  {
   "cell_type": "code",
   "execution_count": 215,
   "id": "5ad17fe5",
   "metadata": {},
   "outputs": [
    {
     "data": {
      "text/plain": [
       "{'name': 'sabari'}"
      ]
     },
     "execution_count": 215,
     "metadata": {},
     "output_type": "execute_result"
    }
   ],
   "source": [
    "a={'name':'sabari'}\n",
    "a"
   ]
  },
  {
   "cell_type": "code",
   "execution_count": 221,
   "id": "69399309",
   "metadata": {},
   "outputs": [
    {
     "data": {
      "text/plain": [
       "{'name': 'sam'}"
      ]
     },
     "execution_count": 221,
     "metadata": {},
     "output_type": "execute_result"
    }
   ],
   "source": [
    "b=a.copy()\n",
    "b"
   ]
  },
  {
   "cell_type": "code",
   "execution_count": 222,
   "id": "a2908c47",
   "metadata": {},
   "outputs": [],
   "source": [
    "b['name']='sam'"
   ]
  },
  {
   "cell_type": "code",
   "execution_count": 223,
   "id": "18b50e5d",
   "metadata": {},
   "outputs": [
    {
     "data": {
      "text/plain": [
       "{'name': 'sam'}"
      ]
     },
     "execution_count": 223,
     "metadata": {},
     "output_type": "execute_result"
    }
   ],
   "source": [
    "a"
   ]
  },
  {
   "cell_type": "markdown",
   "id": "07d56063",
   "metadata": {},
   "source": [
    "## break and continue Statements, and else Clauses on Loops\n",
    "\n",
    "The break statement breaks out of the innermost enclosing for or while loop.\n",
    "\n",
    "A for or while loop can include an else clause.\n",
    "\n",
    "In a for loop, the else clause is executed after the loop reaches its final iteration.\n",
    "\n",
    "In a while loop, it’s executed after the loop’s condition becomes false.\n",
    "\n",
    "In either kind of loop, the else clause is not executed if the loop was terminated by a break."
   ]
  },
  {
   "cell_type": "code",
   "execution_count": 3,
   "id": "34c8e1df",
   "metadata": {},
   "outputs": [
    {
     "name": "stdout",
     "output_type": "stream",
     "text": [
      "name\n",
      "age\n",
      "task completed\n"
     ]
    }
   ],
   "source": [
    "words=['name','age']\n",
    "\n",
    "for i in words:\n",
    "    print(i)\n",
    "else:\n",
    "    print(\"task completed\")"
   ]
  },
  {
   "cell_type": "code",
   "execution_count": 13,
   "id": "26c3b64d",
   "metadata": {},
   "outputs": [
    {
     "name": "stdout",
     "output_type": "stream",
     "text": [
      "1\n",
      "2\n",
      "3\n",
      "4\n",
      "5\n",
      "6\n",
      "7\n",
      "8\n",
      "9\n"
     ]
    }
   ],
   "source": [
    "i=1\n",
    "while i<10:\n",
    "    print(i)\n",
    "    i=i+1     #i +=1\n",
    " "
   ]
  },
  {
   "cell_type": "markdown",
   "id": "5b696780",
   "metadata": {},
   "source": [
    "## break statement "
   ]
  },
  {
   "cell_type": "code",
   "execution_count": 30,
   "id": "ea41d8b6",
   "metadata": {},
   "outputs": [
    {
     "name": "stdout",
     "output_type": "stream",
     "text": [
      "1\n",
      "2\n",
      "3\n",
      "4\n",
      "5\n"
     ]
    }
   ],
   "source": [
    "i=1\n",
    "while i<10:     # loop heading\n",
    "    print(i)\n",
    "    if i == 5:break     # stop the loop completely\n",
    "    i=i+1 "
   ]
  },
  {
   "cell_type": "code",
   "execution_count": 23,
   "id": "c8106010",
   "metadata": {},
   "outputs": [
    {
     "name": "stdout",
     "output_type": "stream",
     "text": [
      "2\n",
      "3\n",
      "4\n",
      "6\n",
      "7\n",
      "8\n",
      "9\n",
      "10\n"
     ]
    }
   ],
   "source": [
    "i=1\n",
    "while i<10:\n",
    "    i=i+1 \n",
    "    if i == 5:\n",
    "        continue         # continue the head again\n",
    "    print(i)   \n",
    "    "
   ]
  },
  {
   "cell_type": "code",
   "execution_count": 32,
   "id": "4dc4669d",
   "metadata": {},
   "outputs": [
    {
     "name": "stdout",
     "output_type": "stream",
     "text": [
      "name\n",
      "name : Completed\n",
      "age\n",
      "age : Completed\n",
      "subject\n",
      "work\n",
      "work : Completed\n",
      "height\n",
      "height : Completed\n",
      "task completed\n"
     ]
    }
   ],
   "source": [
    "words=['name','age','subject','work','height']\n",
    "\n",
    "for i in words:\n",
    "    print(i)\n",
    "    if i == 'subject':continue\n",
    "    print(i,': Completed')\n",
    "else:\n",
    "    print(\"task completed\")"
   ]
  },
  {
   "cell_type": "markdown",
   "id": "7dc37ff7",
   "metadata": {},
   "source": [
    "## List comprehension"
   ]
  },
  {
   "cell_type": "code",
   "execution_count": 35,
   "id": "e8ae0c5d",
   "metadata": {},
   "outputs": [],
   "source": [
    "a=10\n",
    "b=10\n",
    "c=a+b"
   ]
  },
  {
   "cell_type": "code",
   "execution_count": 36,
   "id": "1c150d78",
   "metadata": {},
   "outputs": [
    {
     "data": {
      "text/plain": [
       "20"
      ]
     },
     "execution_count": 36,
     "metadata": {},
     "output_type": "execute_result"
    }
   ],
   "source": [
    "c"
   ]
  },
  {
   "cell_type": "code",
   "execution_count": 49,
   "id": "136df3dd",
   "metadata": {},
   "outputs": [
    {
     "name": "stdout",
     "output_type": "stream",
     "text": [
      "name\n",
      "name : Completed\n",
      "age\n",
      "age : Completed\n",
      "subject\n",
      "subject : Completed\n",
      "work\n",
      "work : Completed\n",
      "height\n",
      "height : Completed\n",
      "task completed\n"
     ]
    }
   ],
   "source": [
    "words=['name','age','subject','work','height']\n",
    "d=[]\n",
    "for i in words:\n",
    "    print(i)\n",
    "    print(i,': Completed')\n",
    "    d.append(i)\n",
    "else:\n",
    "    print(\"task completed\")"
   ]
  },
  {
   "cell_type": "code",
   "execution_count": 50,
   "id": "1b835115",
   "metadata": {},
   "outputs": [
    {
     "data": {
      "text/plain": [
       "['name', 'age', 'subject', 'work', 'height']"
      ]
     },
     "execution_count": 50,
     "metadata": {},
     "output_type": "execute_result"
    }
   ],
   "source": [
    "d"
   ]
  },
  {
   "cell_type": "code",
   "execution_count": 74,
   "id": "a4731a7c",
   "metadata": {},
   "outputs": [
    {
     "data": {
      "text/plain": [
       "['name', 'age', 'subject', 'work', 'height']"
      ]
     },
     "execution_count": 74,
     "metadata": {},
     "output_type": "execute_result"
    }
   ],
   "source": [
    "f=[ i  for i in words]\n",
    "f"
   ]
  },
  {
   "cell_type": "code",
   "execution_count": 63,
   "id": "538493a4",
   "metadata": {},
   "outputs": [],
   "source": [
    "b=[]\n",
    "for i in freshfruit:\n",
    "    a=i.strip()\n",
    "    b.append(a)   "
   ]
  },
  {
   "cell_type": "code",
   "execution_count": 64,
   "id": "f92d2cb7",
   "metadata": {},
   "outputs": [
    {
     "data": {
      "text/plain": [
       "['banana', 'loganberry', 'passion fruit']"
      ]
     },
     "execution_count": 64,
     "metadata": {},
     "output_type": "execute_result"
    }
   ],
   "source": [
    "b"
   ]
  },
  {
   "cell_type": "code",
   "execution_count": 68,
   "id": "ac69c6ad",
   "metadata": {},
   "outputs": [],
   "source": [
    "c=[i.strip() for i in freshfruit]"
   ]
  },
  {
   "cell_type": "code",
   "execution_count": 69,
   "id": "06fc6b61",
   "metadata": {},
   "outputs": [
    {
     "data": {
      "text/plain": [
       "['banana', 'loganberry', 'passion fruit']"
      ]
     },
     "execution_count": 69,
     "metadata": {},
     "output_type": "execute_result"
    }
   ],
   "source": [
    "c"
   ]
  },
  {
   "cell_type": "code",
   "execution_count": 70,
   "id": "cb38a65e",
   "metadata": {},
   "outputs": [],
   "source": [
    "c=[ i.strip()  for i in freshfruit]"
   ]
  },
  {
   "cell_type": "code",
   "execution_count": 84,
   "id": "3670cfed",
   "metadata": {},
   "outputs": [],
   "source": [
    "import keyword"
   ]
  },
  {
   "cell_type": "code",
   "execution_count": 86,
   "id": "bc655a77",
   "metadata": {},
   "outputs": [
    {
     "data": {
      "text/plain": [
       "['False',\n",
       " 'None',\n",
       " 'True',\n",
       " 'and',\n",
       " 'as',\n",
       " 'assert',\n",
       " 'async',\n",
       " 'await',\n",
       " 'break',\n",
       " 'class',\n",
       " 'continue',\n",
       " 'def',\n",
       " 'del',\n",
       " 'elif',\n",
       " 'else',\n",
       " 'except',\n",
       " 'finally',\n",
       " 'for',\n",
       " 'from',\n",
       " 'global',\n",
       " 'if',\n",
       " 'import',\n",
       " 'in',\n",
       " 'is',\n",
       " 'lambda',\n",
       " 'nonlocal',\n",
       " 'not',\n",
       " 'or',\n",
       " 'pass',\n",
       " 'raise',\n",
       " 'return',\n",
       " 'try',\n",
       " 'while',\n",
       " 'with',\n",
       " 'yield']"
      ]
     },
     "execution_count": 86,
     "metadata": {},
     "output_type": "execute_result"
    }
   ],
   "source": [
    "keyword.kwlist"
   ]
  },
  {
   "cell_type": "markdown",
   "id": "9772463a",
   "metadata": {},
   "source": [
    "\n",
    "## Function\n",
    "- use:\n",
    "    - to reuse the code\n",
    "\n",
    "- it run when its called\n",
    "- number and position of argument is important (if argument is mentioned, position is not important)\n",
    "- dont use print  in fucntion use retrun\n",
    "- postion of the return variable also important"
   ]
  },
  {
   "cell_type": "code",
   "execution_count": 165,
   "id": "1b1b7ae9",
   "metadata": {},
   "outputs": [],
   "source": [
    "words=[' name','age','subject','   work','height']    # with whitepace"
   ]
  },
  {
   "cell_type": "code",
   "execution_count": 166,
   "id": "187eb49a",
   "metadata": {},
   "outputs": [
    {
     "name": "stdout",
     "output_type": "stream",
     "text": [
      "task completed\n"
     ]
    }
   ],
   "source": [
    "d=[]\n",
    "for i in words:\n",
    "    a=i.strip()\n",
    "    d.append(a)\n",
    "else:\n",
    "    print(\"task completed\")"
   ]
  },
  {
   "cell_type": "code",
   "execution_count": 167,
   "id": "996a1ba0",
   "metadata": {},
   "outputs": [
    {
     "data": {
      "text/plain": [
       "['name', 'age', 'subject', 'work', 'height']"
      ]
     },
     "execution_count": 167,
     "metadata": {},
     "output_type": "execute_result"
    }
   ],
   "source": [
    "d                            # without"
   ]
  },
  {
   "cell_type": "code",
   "execution_count": 168,
   "id": "093aac21",
   "metadata": {},
   "outputs": [],
   "source": [
    "# user define function\n",
    "\n",
    "def WhiteSpaceRemover(words):   # function_name(arugments)\n",
    "    d=[]\n",
    "    for i in words:\n",
    "        a=i.strip()\n",
    "        d.append(a)\n",
    "    print (d)         # don't use print -- reason will given in below"
   ]
  },
  {
   "cell_type": "code",
   "execution_count": 169,
   "id": "34abf80d",
   "metadata": {},
   "outputs": [],
   "source": [
    "word=[' name','age','subject','   work','height'] \n",
    "my=['my',' name','age','subject','   work','height'] \n",
    "wooo=['woo',' name','age','subject','   work','height'] \n",
    "woood=[' name','age','subject','   work','height','woood'] "
   ]
  },
  {
   "cell_type": "code",
   "execution_count": 170,
   "id": "c8ead2b8",
   "metadata": {},
   "outputs": [
    {
     "name": "stdout",
     "output_type": "stream",
     "text": [
      "['my', 'name', 'age', 'subject', 'work', 'height']\n"
     ]
    }
   ],
   "source": [
    "WhiteSpaceRemover(words=my)"
   ]
  },
  {
   "cell_type": "code",
   "execution_count": 171,
   "id": "e94e66ec",
   "metadata": {},
   "outputs": [
    {
     "name": "stdout",
     "output_type": "stream",
     "text": [
      "['woo', 'name', 'age', 'subject', 'work', 'height']\n"
     ]
    }
   ],
   "source": [
    "WhiteSpaceRemover(words=wooo)"
   ]
  },
  {
   "cell_type": "code",
   "execution_count": 172,
   "id": "0bd16c85",
   "metadata": {},
   "outputs": [
    {
     "ename": "TypeError",
     "evalue": "WhiteSpaceRemover() takes 1 positional argument but 2 were given",
     "output_type": "error",
     "traceback": [
      "\u001b[1;31m---------------------------------------------------------------------------\u001b[0m",
      "\u001b[1;31mTypeError\u001b[0m                                 Traceback (most recent call last)",
      "Cell \u001b[1;32mIn [172], line 1\u001b[0m\n\u001b[1;32m----> 1\u001b[0m WhiteSpaceRemover(woood,my)\n",
      "\u001b[1;31mTypeError\u001b[0m: WhiteSpaceRemover() takes 1 positional argument but 2 were given"
     ]
    }
   ],
   "source": [
    "WhiteSpaceRemover(woood,my)               # number of arugments is important"
   ]
  },
  {
   "cell_type": "code",
   "execution_count": 177,
   "id": "62f88838",
   "metadata": {},
   "outputs": [],
   "source": [
    "def sub(b,a=0):   # here 0 is the default value of the function          \n",
    "    '''\n",
    "    This function is for subtracting two number\n",
    "    \n",
    "    arguments:\n",
    "       a = default=0,int\n",
    "       b = int\n",
    "    \n",
    "    example: \n",
    "    >>> sum (a=3,b=1)\n",
    "    ... 2\n",
    "    \n",
    "    '''\n",
    "    \n",
    "    c=a-b\n",
    "    print('value of a is :',a)\n",
    "    print('value of b is :',b)\n",
    "    print(c)"
   ]
  },
  {
   "cell_type": "code",
   "execution_count": null,
   "id": "159b67c3",
   "metadata": {},
   "outputs": [],
   "source": []
  },
  {
   "cell_type": "code",
   "execution_count": 174,
   "id": "7544de8c",
   "metadata": {},
   "outputs": [
    {
     "name": "stdout",
     "output_type": "stream",
     "text": [
      "value of a is : 3\n",
      "value of b is : 2\n",
      "1\n"
     ]
    }
   ],
   "source": [
    "sub(2,3)         # position of the argument also important"
   ]
  },
  {
   "cell_type": "code",
   "execution_count": 175,
   "id": "3181bb8d",
   "metadata": {},
   "outputs": [
    {
     "name": "stdout",
     "output_type": "stream",
     "text": [
      "value of a is : 2\n",
      "value of b is : 3\n",
      "-1\n"
     ]
    }
   ],
   "source": [
    "sub(3,2)           # position of the argument also important"
   ]
  },
  {
   "cell_type": "code",
   "execution_count": 155,
   "id": "24c748ed",
   "metadata": {},
   "outputs": [
    {
     "name": "stdout",
     "output_type": "stream",
     "text": [
      "value of a is : 2\n",
      "value of b is : 3\n",
      "-1\n"
     ]
    }
   ],
   "source": [
    "sub(b=3,a=2)       # if argument is mentioned, position is not important"
   ]
  },
  {
   "cell_type": "code",
   "execution_count": 164,
   "id": "deda957b",
   "metadata": {},
   "outputs": [
    {
     "name": "stdout",
     "output_type": "stream",
     "text": [
      "value of a is : 0\n",
      "value of b is : 3\n",
      "-3\n"
     ]
    }
   ],
   "source": [
    "sub(3)         # here 0 is the default value of the function  "
   ]
  },
  {
   "cell_type": "code",
   "execution_count": 180,
   "id": "031afab5",
   "metadata": {},
   "outputs": [],
   "source": [
    "def sub(b,a=0):   # here 0 is the default value of the function          \n",
    "    '''\n",
    "    This function is for subtracting two number\n",
    "    \n",
    "    arguments:\n",
    "       a = default=0,int\n",
    "       b = int\n",
    "    \n",
    "    example: \n",
    "    >>> sum (a=3,b=1)\n",
    "    ... 2\n",
    "    \n",
    "    '''\n",
    "    c=a-b\n",
    "    print(c)"
   ]
  },
  {
   "cell_type": "code",
   "execution_count": 189,
   "id": "2e79bdb4",
   "metadata": {},
   "outputs": [
    {
     "name": "stdout",
     "output_type": "stream",
     "text": [
      "-4\n"
     ]
    }
   ],
   "source": [
    "z=sub(8,4)"
   ]
  },
  {
   "cell_type": "code",
   "execution_count": 195,
   "id": "0d4e56be",
   "metadata": {},
   "outputs": [],
   "source": [
    "z        # no value stored in variable beacuse function using print"
   ]
  },
  {
   "cell_type": "code",
   "execution_count": 223,
   "id": "c607a38a",
   "metadata": {},
   "outputs": [],
   "source": [
    "def sub(b,a=0):   # here 0 is the default value of the function          \n",
    "    '''\n",
    "    This function is for subtracting two number\n",
    "    \n",
    "    arguments:\n",
    "       a = default=0,int\n",
    "       b = int\n",
    "    \n",
    "    example: \n",
    "    >>> sum (a=3,b=1)\n",
    "        c=3-1\n",
    "    ... a,b,c=3,1,2\n",
    "    \n",
    "    \n",
    "    \n",
    "    '''\n",
    "    c=a-b\n",
    "    return a,b,c"
   ]
  },
  {
   "cell_type": "code",
   "execution_count": 226,
   "id": "78b21d8d",
   "metadata": {},
   "outputs": [],
   "source": [
    "_,_,f=sub(9,10)"
   ]
  },
  {
   "cell_type": "code",
   "execution_count": 227,
   "id": "b90ce653",
   "metadata": {},
   "outputs": [
    {
     "data": {
      "text/plain": [
       "1"
      ]
     },
     "execution_count": 227,
     "metadata": {},
     "output_type": "execute_result"
    }
   ],
   "source": [
    "f      #value stored in varibale because function using return"
   ]
  },
  {
   "cell_type": "code",
   "execution_count": null,
   "id": "d64e1a97",
   "metadata": {},
   "outputs": [],
   "source": []
  }
 ],
 "metadata": {
  "kernelspec": {
   "display_name": "Python 3 (ipykernel)",
   "language": "python",
   "name": "python3"
  },
  "language_info": {
   "codemirror_mode": {
    "name": "ipython",
    "version": 3
   },
   "file_extension": ".py",
   "mimetype": "text/x-python",
   "name": "python",
   "nbconvert_exporter": "python",
   "pygments_lexer": "ipython3",
   "version": "3.10.7"
  }
 },
 "nbformat": 4,
 "nbformat_minor": 5
}
