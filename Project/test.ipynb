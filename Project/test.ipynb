{
 "cells": [
  {
   "cell_type": "code",
   "execution_count": 16,
   "id": "800c1990-e7c7-4d10-bb79-6479ed774702",
   "metadata": {},
   "outputs": [],
   "source": [
    "import pandas as pd\n",
    "import numpy as np\n",
    "import matplotlib.pyplot as plt\n",
    "import seaborn as sns\n",
    "from sklearn.model_selection import train_test_split\n",
    "from sklearn.preprocessing  import OneHotEncoder,StandardScaler\n",
    "from sklearn.linear_model import LinearRegression,Ridge,Lasso\n",
    "from joblib import dump, load\n",
    "from sklearn.metrics import r2_score"
   ]
  },
  {
   "cell_type": "code",
   "execution_count": 17,
   "id": "a063d7f5-45fd-4601-8abb-2c0d88bb83c4",
   "metadata": {},
   "outputs": [],
   "source": [
    "def test_pipeline(x_test_path,model):\n",
    "\n",
    "    #Read data\n",
    "    X=pd.read_csv(x_test_path)\n",
    "    # y_true=pd.read_csv(y_test_path)\n",
    "    \n",
    "    #seperate numerical and categorical columns\n",
    "    numerical_cols=X.select_dtypes(exclude='object')\n",
    "    categorical_cols=X.select_dtypes(include='object')\n",
    "    \n",
    "    # categorical -- encoding\n",
    "    encoder_model=load('models/encoder/one_hot_encoder.pkl')\n",
    "    col=encoder_model.get_feature_names_out()\n",
    "    transform=encoder_model.transform(categorical_cols).toarray()\n",
    "    categorical_encode_data=pd.DataFrame(transform,columns=col)\n",
    "\n",
    "    # numerical-- Scalling\n",
    "    model_scaling=load('models/scaling/standard_scaler.pkl')\n",
    "    scaled_data=model_scaling.transform(numerical_cols)\n",
    "    numerical_scaled_data=pd.DataFrame(scaled_data,columns=numerical_cols.columns)\n",
    "\n",
    "    # concat numerical and categorical data\n",
    "    Features=pd.concat([numerical_scaled_data,categorical_encode_data],axis=1)\n",
    "\n",
    "    # model testing\n",
    "    lr=load(model)\n",
    "    y_pred=pd.DataFrame(lr.predict(Features))\n",
    "    # test_score=r2_score(y_true, y_pred)*100\n",
    "    \n",
    "    return y_pred"
   ]
  },
  {
   "cell_type": "code",
   "execution_count": 18,
   "id": "3c643c96-e6f0-4875-b37f-45be3643713e",
   "metadata": {},
   "outputs": [],
   "source": [
    "y_pred=test_pipeline(\"data/X_test.csv\",'models/RF.pkl')"
   ]
  },
  {
   "cell_type": "code",
   "execution_count": 19,
   "id": "61f516b5-466e-48c9-9d3e-9f4e76efe2e5",
   "metadata": {},
   "outputs": [
    {
     "data": {
      "text/html": [
       "<div>\n",
       "<style scoped>\n",
       "    .dataframe tbody tr th:only-of-type {\n",
       "        vertical-align: middle;\n",
       "    }\n",
       "\n",
       "    .dataframe tbody tr th {\n",
       "        vertical-align: top;\n",
       "    }\n",
       "\n",
       "    .dataframe thead th {\n",
       "        text-align: right;\n",
       "    }\n",
       "</style>\n",
       "<table border=\"1\" class=\"dataframe\">\n",
       "  <thead>\n",
       "    <tr style=\"text-align: right;\">\n",
       "      <th></th>\n",
       "      <th>0</th>\n",
       "    </tr>\n",
       "  </thead>\n",
       "  <tbody>\n",
       "    <tr>\n",
       "      <th>0</th>\n",
       "      <td>7692.046920</td>\n",
       "    </tr>\n",
       "    <tr>\n",
       "      <th>1</th>\n",
       "      <td>17129.413711</td>\n",
       "    </tr>\n",
       "    <tr>\n",
       "      <th>2</th>\n",
       "      <td>5499.216259</td>\n",
       "    </tr>\n",
       "    <tr>\n",
       "      <th>3</th>\n",
       "      <td>9342.651810</td>\n",
       "    </tr>\n",
       "    <tr>\n",
       "      <th>4</th>\n",
       "      <td>28532.726277</td>\n",
       "    </tr>\n",
       "    <tr>\n",
       "      <th>...</th>\n",
       "      <td>...</td>\n",
       "    </tr>\n",
       "    <tr>\n",
       "      <th>263</th>\n",
       "      <td>5755.539596</td>\n",
       "    </tr>\n",
       "    <tr>\n",
       "      <th>264</th>\n",
       "      <td>39351.038767</td>\n",
       "    </tr>\n",
       "    <tr>\n",
       "      <th>265</th>\n",
       "      <td>10747.753260</td>\n",
       "    </tr>\n",
       "    <tr>\n",
       "      <th>266</th>\n",
       "      <td>12608.234287</td>\n",
       "    </tr>\n",
       "    <tr>\n",
       "      <th>267</th>\n",
       "      <td>13545.637721</td>\n",
       "    </tr>\n",
       "  </tbody>\n",
       "</table>\n",
       "<p>268 rows × 1 columns</p>\n",
       "</div>"
      ],
      "text/plain": [
       "                0\n",
       "0     7692.046920\n",
       "1    17129.413711\n",
       "2     5499.216259\n",
       "3     9342.651810\n",
       "4    28532.726277\n",
       "..            ...\n",
       "263   5755.539596\n",
       "264  39351.038767\n",
       "265  10747.753260\n",
       "266  12608.234287\n",
       "267  13545.637721\n",
       "\n",
       "[268 rows x 1 columns]"
      ]
     },
     "execution_count": 19,
     "metadata": {},
     "output_type": "execute_result"
    }
   ],
   "source": [
    "y_pred"
   ]
  },
  {
   "cell_type": "code",
   "execution_count": null,
   "id": "a1f285d6-52df-4124-929b-0a7a4e18174a",
   "metadata": {},
   "outputs": [],
   "source": []
  }
 ],
 "metadata": {
  "kernelspec": {
   "display_name": "Python 3 (ipykernel)",
   "language": "python",
   "name": "python3"
  },
  "language_info": {
   "codemirror_mode": {
    "name": "ipython",
    "version": 3
   },
   "file_extension": ".py",
   "mimetype": "text/x-python",
   "name": "python",
   "nbconvert_exporter": "python",
   "pygments_lexer": "ipython3",
   "version": "3.11.4"
  }
 },
 "nbformat": 4,
 "nbformat_minor": 5
}
